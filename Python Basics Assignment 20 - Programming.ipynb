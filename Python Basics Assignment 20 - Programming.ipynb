{
 "cells": [
  {
   "cell_type": "markdown",
   "id": "78a75983",
   "metadata": {},
   "source": [
    "# 1. Create a function that takes a list of strings and integers, and filters out the list so that it returns a list of integers only.\n"
   ]
  },
  {
   "cell_type": "code",
   "execution_count": 8,
   "id": "318c1c42",
   "metadata": {},
   "outputs": [
    {
     "data": {
      "text/plain": [
       "[1, 2, 3]"
      ]
     },
     "execution_count": 8,
     "metadata": {},
     "output_type": "execute_result"
    }
   ],
   "source": [
    "def int_only_list(l):\n",
    "    \n",
    "    final_list = []\n",
    "    \n",
    "    try:\n",
    "    \n",
    "        for i in range(len(l)):\n",
    "            if type(l[i]) == int:\n",
    "                final_list.append(l[i])\n",
    "        return final_list\n",
    "\n",
    "    except Exception as e:\n",
    "        print(e)\n",
    "\n",
    "int_only_list([1, 2, 3, \"a\", \"b\"])"
   ]
  },
  {
   "cell_type": "markdown",
   "id": "401b9c88",
   "metadata": {},
   "source": [
    "# 2. Given a list of numbers, create a function which returns the list but with each element's index in the list added to itself. This means you add 0 to the number at index 0, add 1 to the number at index 1, etc..."
   ]
  },
  {
   "cell_type": "code",
   "execution_count": 10,
   "id": "dce9fb1f",
   "metadata": {},
   "outputs": [
    {
     "data": {
      "text/plain": [
       "[5, 5, 5, 5, 5]"
      ]
     },
     "execution_count": 10,
     "metadata": {},
     "output_type": "execute_result"
    }
   ],
   "source": [
    "def add_indexes(l):\n",
    "    index_list = []\n",
    "    for i in range(len(l)):\n",
    "        j = l[i] + i\n",
    "        index_list.append(j)\n",
    "    return index_list\n",
    "\n",
    "add_indexes([5, 4, 3, 2, 1])"
   ]
  },
  {
   "cell_type": "markdown",
   "id": "91d87ebc",
   "metadata": {},
   "source": [
    "# 3. Create a function that takes the height and radius of a cone as arguments and returns the volume of the cone rounded to the nearest hundredth. See the resources tab for the formula.\n"
   ]
  },
  {
   "cell_type": "code",
   "execution_count": 14,
   "id": "dd5362a4",
   "metadata": {},
   "outputs": [
    {
     "data": {
      "text/plain": [
       "12.57"
      ]
     },
     "execution_count": 14,
     "metadata": {},
     "output_type": "execute_result"
    }
   ],
   "source": [
    "def cone_volume(height, radius):\n",
    "    vol = round(3.1415*radius**2*height/3, 2)\n",
    "    return vol\n",
    "\n",
    "cone_volume(3, 2)"
   ]
  },
  {
   "cell_type": "markdown",
   "id": "8dd90508",
   "metadata": {},
   "source": [
    "# 4. Write a function that gives the number of dots with its corresponding triangle number of the sequence."
   ]
  },
  {
   "cell_type": "code",
   "execution_count": 19,
   "id": "bce265d3",
   "metadata": {},
   "outputs": [
    {
     "data": {
      "text/plain": [
       "23220"
      ]
     },
     "execution_count": 19,
     "metadata": {},
     "output_type": "execute_result"
    }
   ],
   "source": [
    "def triangle(num):\n",
    "    sum = 1\n",
    "    counter = 2\n",
    "    while counter < num + 1:\n",
    "        sum+= counter\n",
    "        counter+=1\n",
    "    return sum\n",
    "\n",
    "triangle(215)\n",
    "        "
   ]
  },
  {
   "cell_type": "markdown",
   "id": "63fdefbf",
   "metadata": {},
   "source": [
    "# 5. Create a function that takes a list of numbers between 1 and 10 (excluding one number) and returns the missing number.\n"
   ]
  },
  {
   "cell_type": "code",
   "execution_count": 32,
   "id": "5ff386db",
   "metadata": {},
   "outputs": [
    {
     "data": {
      "text/plain": [
       "5"
      ]
     },
     "execution_count": 32,
     "metadata": {},
     "output_type": "execute_result"
    }
   ],
   "source": [
    "def missing_num(l):\n",
    "    missing_num = 0\n",
    "    for i in range(1, 9):\n",
    "        if i not in l:\n",
    "            missing_num += i\n",
    "    return missing_num\n",
    "\n",
    "missing_num([1, 2, 3, 4, 6, 7, 8, 9, 10])\n",
    "        "
   ]
  },
  {
   "cell_type": "code",
   "execution_count": null,
   "id": "8f6f6db4",
   "metadata": {},
   "outputs": [],
   "source": []
  }
 ],
 "metadata": {
  "kernelspec": {
   "display_name": "Python 3 (ipykernel)",
   "language": "python",
   "name": "python3"
  },
  "language_info": {
   "codemirror_mode": {
    "name": "ipython",
    "version": 3
   },
   "file_extension": ".py",
   "mimetype": "text/x-python",
   "name": "python",
   "nbconvert_exporter": "python",
   "pygments_lexer": "ipython3",
   "version": "3.9.12"
  }
 },
 "nbformat": 4,
 "nbformat_minor": 5
}
