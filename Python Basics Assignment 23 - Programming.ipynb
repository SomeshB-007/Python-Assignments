{
 "cells": [
  {
   "cell_type": "markdown",
   "id": "9c653485",
   "metadata": {},
   "source": [
    "# 1. Create a function that takes a number as an argument and returns True or False depending on whether the number is symmetrical or not. A number is symmetrical when it is the same as its reverse."
   ]
  },
  {
   "cell_type": "code",
   "execution_count": 93,
   "id": "04d3f5b5",
   "metadata": {},
   "outputs": [
    {
     "name": "stdout",
     "output_type": "stream",
     "text": [
      "yes\n"
     ]
    }
   ],
   "source": [
    "num = str(12345354321)\n",
    "flag = True\n",
    "counter = len(num) - 1\n",
    "\n",
    "try:\n",
    "    \n",
    "    for i in num:\n",
    "        if i != num[counter]:\n",
    "            flag = False\n",
    "            break\n",
    "        counter -= 1\n",
    "\n",
    "    if flag == True:\n",
    "        print(\"yes\")\n",
    "    else:\n",
    "        print(\"no\")\n",
    "\n",
    "except Exception as e:\n",
    "    print(e)"
   ]
  },
  {
   "cell_type": "markdown",
   "id": "cee212f6",
   "metadata": {},
   "source": [
    "# 2. Given a string of numbers separated by a comma and space, return the product of the numbers."
   ]
  },
  {
   "cell_type": "code",
   "execution_count": 168,
   "id": "4942c24d",
   "metadata": {},
   "outputs": [
    {
     "name": "stdout",
     "output_type": "stream",
     "text": [
      "This is the product of ( 2, 3 ) 6\n"
     ]
    }
   ],
   "source": [
    "num = \"2, 3\"\n",
    "\n",
    "numbers = [int(x) for x in num.split(\", \")]\n",
    "multiply = 1\n",
    "\n",
    "try: \n",
    "    \n",
    "    for i in numbers:\n",
    "        multiply*=i\n",
    "    print(\"This is the product of\", \"(\" ,num,\")\", multiply)\n",
    "\n",
    "except Exception as e:\n",
    "    print(e)\n"
   ]
  },
  {
   "cell_type": "markdown",
   "id": "c0d1234d",
   "metadata": {},
   "source": [
    "# 3. Create a function that squares every digit of a number.\n"
   ]
  },
  {
   "cell_type": "code",
   "execution_count": 208,
   "id": "7a639a4e",
   "metadata": {},
   "outputs": [
    {
     "name": "stdout",
     "output_type": "stream",
     "text": [
      "4916\n"
     ]
    }
   ],
   "source": [
    "num = 234\n",
    "\n",
    "numm = [int(x)**2 for x in str(num)]\n",
    "result  = int(\"\".join(map(str,numm)))\n",
    "print(result)\n",
    "\n"
   ]
  },
  {
   "cell_type": "markdown",
   "id": "8c7c3b85",
   "metadata": {},
   "source": [
    "# 4. Create a function that sorts a list and removes all duplicate items from it.\n"
   ]
  },
  {
   "cell_type": "code",
   "execution_count": 221,
   "id": "7d831b34",
   "metadata": {},
   "outputs": [
    {
     "name": "stdout",
     "output_type": "stream",
     "text": [
      "[1, 3, 5]\n"
     ]
    }
   ],
   "source": [
    "num_list = [1, 3, 3, 5, 5]\n",
    "\n",
    "\n",
    "\n",
    "def remove_duplicate(num):\n",
    "    sorted_num_list = []\n",
    "    try:\n",
    "        \n",
    "        for i in num_list:\n",
    "            if i not in sorted_num_list:\n",
    "                sorted_num_list.append(i)\n",
    "        print(sorted_num_list)\n",
    "    except Exception as e:\n",
    "        print(e)\n",
    "\n",
    "remove_duplicate([1, 3, 3, 5, 5])"
   ]
  },
  {
   "cell_type": "markdown",
   "id": "fb1902c4",
   "metadata": {},
   "source": [
    "# 5. Create a function that returns the mean of all digits.\n"
   ]
  },
  {
   "cell_type": "code",
   "execution_count": 254,
   "id": "35ef6cce",
   "metadata": {},
   "outputs": [
    {
     "data": {
      "text/plain": [
       "6"
      ]
     },
     "execution_count": 254,
     "metadata": {},
     "output_type": "execute_result"
    }
   ],
   "source": [
    "def mean(num):\n",
    "    nums  = [int(x) for x in str(num)]\n",
    "    summ = 0\n",
    "    n = len(str(num))\n",
    "   \n",
    "    try:\n",
    "        for i in nums:\n",
    "            summ+=i\n",
    "        mean = summ/n\n",
    "        return round(mean)\n",
    "\n",
    "    except Exception as e:\n",
    "        print(e)\n",
    "    \n",
    "mean(666)\n",
    "    "
   ]
  },
  {
   "cell_type": "code",
   "execution_count": null,
   "id": "a6d3e3c6",
   "metadata": {},
   "outputs": [],
   "source": []
  }
 ],
 "metadata": {
  "kernelspec": {
   "display_name": "Python 3 (ipykernel)",
   "language": "python",
   "name": "python3"
  },
  "language_info": {
   "codemirror_mode": {
    "name": "ipython",
    "version": 3
   },
   "file_extension": ".py",
   "mimetype": "text/x-python",
   "name": "python",
   "nbconvert_exporter": "python",
   "pygments_lexer": "ipython3",
   "version": "3.9.12"
  }
 },
 "nbformat": 4,
 "nbformat_minor": 5
}
