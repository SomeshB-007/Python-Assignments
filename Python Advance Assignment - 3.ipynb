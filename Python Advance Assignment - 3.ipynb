{
 "cells": [
  {
   "cell_type": "markdown",
   "id": "7c46006f",
   "metadata": {},
   "source": [
    "# 1. What is the concept of an abstract superclass?\n"
   ]
  },
  {
   "cell_type": "markdown",
   "id": "4828fd86",
   "metadata": {},
   "source": [
    "An abstract superclass is a class that cannot be instantiated and is typically used as a blueprint for other classes. It defines common properties and methods that its subclasses can inherit and use, but it also typically contains some abstract methods (methods without a implementation) that must be overridden by its subclasses. This allows for shared functionality among subclasses while still allowing them to have unique implementation."
   ]
  },
  {
   "cell_type": "markdown",
   "id": "ff4e393d",
   "metadata": {},
   "source": [
    "# 2. What happens when a class statement's top level contains a basic assignment statement?\n"
   ]
  },
  {
   "cell_type": "markdown",
   "id": "370f6d72",
   "metadata": {},
   "source": [
    "When a class statement's top level (i.e., outside of any method or constructor) contains a basic assignment statement, it creates a class level variable or a class attribute. It is a variable that is shared by all instances of the class and is defined at the class level, rather than the instance level."
   ]
  },
  {
   "cell_type": "markdown",
   "id": "5ef84686",
   "metadata": {},
   "source": [
    "# 3. Why does a class need to manually call a superclass&#39;s __init__ method?"
   ]
  },
  {
   "cell_type": "markdown",
   "id": "a6cfc221",
   "metadata": {},
   "source": [
    "When a class inherits from a superclass, it also inherits its methods and properties, including its constructor method (__init__). However, the subclass's constructor method does not automatically call the superclass's constructor method. This means that if the superclass's constructor method is responsible for initializing some important state or properties that the subclass also needs, it must be manually called by the subclass's constructor method."
   ]
  },
  {
   "cell_type": "markdown",
   "id": "f947da83",
   "metadata": {},
   "source": [
    "# 4. How can you augment, instead of completely replacing, an inherited method?\n"
   ]
  },
  {
   "cell_type": "markdown",
   "id": "a1ae3f5e",
   "metadata": {},
   "source": [
    "There are several ways to augment, instead of completely replacing, an inherited method in object-oriented programming. One common way is to use the super() function to call the inherited method before or after adding new functionality."
   ]
  },
  {
   "cell_type": "markdown",
   "id": "4e50657c",
   "metadata": {},
   "source": [
    "# 5. How is the local scope of a class different from that of a function?\n"
   ]
  },
  {
   "cell_type": "markdown",
   "id": "7bfff603",
   "metadata": {},
   "source": [
    "A class can define attributes, which are variables that are bound to the class and are shared by all instances of the class. In contrast, a function can only define local variables that are specific to the function call and are not shared between function calls.\n",
    "\n",
    "The scope of a class is defined by the entire class definition, whereas the scope of a function is defined by the function definition and the block of code within the function.\n",
    "\n",
    "Instance variables are only accessible within the class and by the objects of the class, whereas function variables are only accessible within the function and its block.\n",
    "\n",
    "A class can be subclassed and modified, whereas a function cannot be subclassed and modified."
   ]
  }
 ],
 "metadata": {
  "kernelspec": {
   "display_name": "Python 3 (ipykernel)",
   "language": "python",
   "name": "python3"
  },
  "language_info": {
   "codemirror_mode": {
    "name": "ipython",
    "version": 3
   },
   "file_extension": ".py",
   "mimetype": "text/x-python",
   "name": "python",
   "nbconvert_exporter": "python",
   "pygments_lexer": "ipython3",
   "version": "3.9.12"
  }
 },
 "nbformat": 4,
 "nbformat_minor": 5
}
