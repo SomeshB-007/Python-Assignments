{
 "cells": [
  {
   "cell_type": "markdown",
   "id": "b8caef50",
   "metadata": {},
   "source": [
    "# 1. What is the concept of an abstract superclass?\n"
   ]
  },
  {
   "cell_type": "markdown",
   "id": "a675a473",
   "metadata": {},
   "source": [
    "An abstract superclass is a class that cannot be instantiated and is typically used as a blueprint for other classes. It defines common properties and methods that its subclasses can inherit and use, but it also typically contains some abstract methods (methods without a implementation) that must be overridden by its subclasses. This allows for shared functionality among subclasses while still allowing them to have unique implementation."
   ]
  },
  {
   "cell_type": "markdown",
   "id": "02b7c8eb",
   "metadata": {},
   "source": [
    "# 2. What happens when a class statement's top level contains a basic assignment statement?\n"
   ]
  },
  {
   "cell_type": "markdown",
   "id": "8997f928",
   "metadata": {},
   "source": [
    "When a class statement's top level (i.e., outside of any method or constructor) contains a basic assignment statement, it creates a class level variable or a class attribute. It is a variable that is shared by all instances of the class and is defined at the class level, rather than the instance level."
   ]
  },
  {
   "cell_type": "markdown",
   "id": "0192d956",
   "metadata": {},
   "source": [
    "# 3. Why does a class need to manually call a superclass&#39;s __init__ method?"
   ]
  },
  {
   "cell_type": "markdown",
   "id": "5acecc9c",
   "metadata": {},
   "source": [
    "When a class inherits from a superclass, it also inherits its methods and properties, including its constructor method (__init__). However, the subclass's constructor method does not automatically call the superclass's constructor method. This means that if the superclass's constructor method is responsible for initializing some important state or properties that the subclass also needs, it must be manually called by the subclass's constructor method."
   ]
  },
  {
   "cell_type": "markdown",
   "id": "cae173c4",
   "metadata": {},
   "source": [
    "# 4. How can you augment, instead of completely replacing, an inherited method?\n"
   ]
  },
  {
   "cell_type": "markdown",
   "id": "33d7deef",
   "metadata": {},
   "source": [
    "There are several ways to augment, instead of completely replacing, an inherited method in object-oriented programming. One common way is to use the super() function to call the inherited method before or after adding new functionality."
   ]
  },
  {
   "cell_type": "markdown",
   "id": "e7788839",
   "metadata": {},
   "source": [
    "# 5. How is the local scope of a class different from that of a function?\n"
   ]
  },
  {
   "cell_type": "code",
   "execution_count": null,
   "id": "264845a1",
   "metadata": {},
   "outputs": [],
   "source": []
  },
  {
   "cell_type": "code",
   "execution_count": null,
   "id": "ae538397",
   "metadata": {},
   "outputs": [],
   "source": []
  },
  {
   "cell_type": "code",
   "execution_count": 9,
   "id": "87789e84",
   "metadata": {},
   "outputs": [
    {
     "ename": "NameError",
     "evalue": "name 'width' is not defined",
     "output_type": "error",
     "traceback": [
      "\u001b[1;31m---------------------------------------------------------------------------\u001b[0m",
      "\u001b[1;31mNameError\u001b[0m                                 Traceback (most recent call last)",
      "Cell \u001b[1;32mIn [9], line 6\u001b[0m\n\u001b[0;32m      3\u001b[0m         \u001b[38;5;28mself\u001b[39m\u001b[38;5;241m.\u001b[39mx \u001b[38;5;241m=\u001b[39m x\n\u001b[0;32m      4\u001b[0m         \u001b[38;5;28mself\u001b[39m\u001b[38;5;241m.\u001b[39my \u001b[38;5;241m=\u001b[39m y\n\u001b[1;32m----> 6\u001b[0m \u001b[38;5;28;01mclass\u001b[39;00m \u001b[38;5;21;01mRectangle\u001b[39;00m(Shape, \u001b[43mwidth\u001b[49m, height):\n\u001b[0;32m      7\u001b[0m    \u001b[38;5;66;03m# def __init__(self, width, height):\u001b[39;00m\n\u001b[0;32m      8\u001b[0m       \u001b[38;5;66;03m#  super().__init__(x, y)\u001b[39;00m\n\u001b[0;32m      9\u001b[0m         \u001b[38;5;28mself\u001b[39m\u001b[38;5;241m.\u001b[39mwidth \u001b[38;5;241m=\u001b[39m width\n\u001b[0;32m     10\u001b[0m         \u001b[38;5;28mself\u001b[39m\u001b[38;5;241m.\u001b[39mheight \u001b[38;5;241m=\u001b[39m height\n",
      "\u001b[1;31mNameError\u001b[0m: name 'width' is not defined"
     ]
    }
   ],
   "source": [
    "class Shape:\n",
    "    def __init__(self, x, y):\n",
    "        self.x = x\n",
    "        self.y = y\n",
    "\n",
    "class Rectangle(Shape, width, height):\n",
    "   # def __init__(self, width, height):\n",
    "      #  super().__init__(x, y)\n",
    "        self.width = width\n",
    "        self.height = height\n",
    "\n",
    "r = Rectangle(0, 0, 100, 50)\n",
    "#print(r.x,r.y) # 0 0\n",
    "r.x\n"
   ]
  },
  {
   "cell_type": "code",
   "execution_count": null,
   "id": "b12e10cd",
   "metadata": {},
   "outputs": [],
   "source": []
  }
 ],
 "metadata": {
  "kernelspec": {
   "display_name": "Python 3 (ipykernel)",
   "language": "python",
   "name": "python3"
  },
  "language_info": {
   "codemirror_mode": {
    "name": "ipython",
    "version": 3
   },
   "file_extension": ".py",
   "mimetype": "text/x-python",
   "name": "python",
   "nbconvert_exporter": "python",
   "pygments_lexer": "ipython3",
   "version": "3.9.12"
  }
 },
 "nbformat": 4,
 "nbformat_minor": 5
}
