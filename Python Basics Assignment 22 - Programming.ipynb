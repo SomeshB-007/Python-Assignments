{
 "cells": [
  {
   "cell_type": "markdown",
   "id": "7128592a",
   "metadata": {},
   "source": [
    "# 1. Create a function that takes three parameters where:\n",
    "- x is the start of the range (inclusive).\n",
    "- y is the end of the range (inclusive).\n",
    "- n is the divisor to be checked against.\n",
    "\n",
    "Return an ordered list with numbers in the range that are divisible by the third parameter n. Return an empty list if there are no numbers that are divisible by n."
   ]
  },
  {
   "cell_type": "code",
   "execution_count": 12,
   "id": "be1afacd",
   "metadata": {},
   "outputs": [
    {
     "data": {
      "text/plain": [
       "[8, 16, 24, 32, 40, 48, 56, 64, 72, 80, 88, 96]"
      ]
     },
     "execution_count": 12,
     "metadata": {},
     "output_type": "execute_result"
    }
   ],
   "source": [
    "def div_list(x, y, n):\n",
    "    sorted_list= []\n",
    "   \n",
    "    try:\n",
    "        for i in range(x, y):\n",
    "            if i%n == 0:\n",
    "                sorted_list.append(i)\n",
    "        return sorted_list\n",
    "    \n",
    "    except Exception as e:\n",
    "        print(e)\n",
    "        \n",
    "        \n",
    "div_list(3, 100, 8)\n"
   ]
  },
  {
   "cell_type": "markdown",
   "id": "19a49032",
   "metadata": {},
   "source": [
    " # 2. Create a function that takes in two lists and returns True if the second list follows the first list by one element, and False otherwise. In other words, determine if the second list is the first list shifted to the right by 1."
   ]
  },
  {
   "cell_type": "code",
   "execution_count": 131,
   "id": "fb88deee",
   "metadata": {},
   "outputs": [
    {
     "name": "stdout",
     "output_type": "stream",
     "text": [
      "True\n",
      "False\n",
      "True\n",
      "False\n"
     ]
    }
   ],
   "source": [
    "def is_shifted(list1, list2):\n",
    "    if len(list1) != len(list2):\n",
    "        return False\n",
    "    for i in range(len(list1) - 1):\n",
    "        if list1[i] != list2[i+1]:\n",
    "            return False\n",
    "    return True\n",
    "\n",
    "print(is_shifted([1, 2], [5, 1])) # True\n",
    "print(is_shifted([1, 2], [5, 5])) # False\n",
    "print(is_shifted([1, 2, 3, 4, 5], [0, 1, 2, 3, 4])) # True\n",
    "print(is_shifted([1, 2, 3, 4, 5], [5, 5, 1, 2, 3])) # False"
   ]
  },
  {
   "cell_type": "markdown",
   "id": "b638bb29",
   "metadata": {},
   "source": [
    "#  3. A group of friends have decided to start a secret society. The name will be the first letter of each of their names, sorted in alphabetical order."
   ]
  },
  {
   "cell_type": "code",
   "execution_count": 185,
   "id": "182ac7b0",
   "metadata": {},
   "outputs": [
    {
     "data": {
      "text/plain": [
       "'AMS'"
      ]
     },
     "execution_count": 185,
     "metadata": {},
     "output_type": "execute_result"
    }
   ],
   "source": [
    "def sorted_names(names):\n",
    "    initial_list = []\n",
    "    try:\n",
    "        \n",
    "        for i in names:\n",
    "            initial = str(\"\".join(map(str,(i[0]))))\n",
    "            initial_list.append(initial)\n",
    "        sorted_initials = ''.join(sorted(initial_list))\n",
    "        return sorted_initials\n",
    "    \n",
    "    except Exception as e:\n",
    "        print(e)\n",
    "    \n",
    "sorted_names([\"Adam\", \"Sarah\", \"Malcolm\"])\n",
    "        "
   ]
  },
  {
   "cell_type": "markdown",
   "id": "667ee6e2",
   "metadata": {},
   "source": [
    "# 4. An isogram is a word that has no duplicate letters. Create a function that takes a string and returns either True or False depending on whether or not it's an \"isogram\"."
   ]
  },
  {
   "cell_type": "code",
   "execution_count": 281,
   "id": "383e2978",
   "metadata": {},
   "outputs": [],
   "source": [
    "def is_isogram(word):\n",
    "    word = word.lower()\n",
    "    return len(word) == len(set(word))\n",
    "            \n"
   ]
  },
  {
   "cell_type": "code",
   "execution_count": 283,
   "id": "f792eae7",
   "metadata": {},
   "outputs": [
    {
     "data": {
      "text/plain": [
       "True"
      ]
     },
     "execution_count": 283,
     "metadata": {},
     "output_type": "execute_result"
    }
   ],
   "source": [
    "is_isogram(\"Algorism\")"
   ]
  },
  {
   "cell_type": "markdown",
   "id": "eb6e9332",
   "metadata": {},
   "source": [
    "# 5. Create a function that takes a string and returns True or False, depending on whether the characters are in order or not."
   ]
  },
  {
   "cell_type": "code",
   "execution_count": 334,
   "id": "67618aeb",
   "metadata": {},
   "outputs": [
    {
     "data": {
      "text/plain": [
       "True"
      ]
     },
     "execution_count": 334,
     "metadata": {},
     "output_type": "execute_result"
    }
   ],
   "source": [
    "def is_in_order(string):\n",
    "    new_list = []\n",
    "    sorted_string = sorted(\"\".join(map(str, string)))\n",
    "    \n",
    "    for i in string:\n",
    "        new_list.append(i)\n",
    "    \n",
    "    sorted_string = list(sorted_string)\n",
    "    \n",
    "    if new_list == sorted_string:\n",
    "        return True\n",
    "    else:\n",
    "        return False\n",
    "\n",
    "is_in_order(\"xyzz\")\n"
   ]
  },
  {
   "cell_type": "code",
   "execution_count": null,
   "id": "e466c55c",
   "metadata": {},
   "outputs": [],
   "source": []
  }
 ],
 "metadata": {
  "kernelspec": {
   "display_name": "Python 3 (ipykernel)",
   "language": "python",
   "name": "python3"
  },
  "language_info": {
   "codemirror_mode": {
    "name": "ipython",
    "version": 3
   },
   "file_extension": ".py",
   "mimetype": "text/x-python",
   "name": "python",
   "nbconvert_exporter": "python",
   "pygments_lexer": "ipython3",
   "version": "3.9.12"
  }
 },
 "nbformat": 4,
 "nbformat_minor": 5
}
