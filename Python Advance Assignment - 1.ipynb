{
 "cells": [
  {
   "cell_type": "markdown",
   "id": "145c5584",
   "metadata": {},
   "source": [
    "# 1. What is the purpose of Python's OOP?"
   ]
  },
  {
   "cell_type": "markdown",
   "id": "06c0d4ab",
   "metadata": {},
   "source": [
    "The purpose of Python's Object-Oriented Programming (OOP) is to provide a way to model real-world objects and their interactions within a program. OOP allows developers to create complex and modular programs by dividing them into smaller, more manageable pieces called \"objects.\""
   ]
  },
  {
   "cell_type": "markdown",
   "id": "967a9465",
   "metadata": {},
   "source": [
    "# 2. Where does an inheritance search look for an attribute?"
   ]
  },
  {
   "cell_type": "markdown",
   "id": "62b1c73a",
   "metadata": {},
   "source": [
    " In OOP, a class can inherit properties and methods from one or more parent classes, and when a program looks for an attribute in an object, it first looks for the attribute in the object's own namespace. If the attribute is not found there, the search will move to the namespace of the object's parent class, and this process is repeated for each parent class, starting with the immediate parent and working up the chain of inheritance until the attribute is found or the top of the hierarchy is reached."
   ]
  },
  {
   "cell_type": "markdown",
   "id": "470285a5",
   "metadata": {},
   "source": [
    "# 3. How do you distinguish between a class object and an instance object?"
   ]
  },
  {
   "cell_type": "markdown",
   "id": "69be56bc",
   "metadata": {},
   "source": [
    "A class is a blueprint or template for creating objects, while an instance is a specific object created from a class. A class defines the properties and methods that an instance of the class will have, but the instance has its own specific values for those properties. In Python, you can create an instance of a class using the class name followed by parentheses, while you refer to the class itself using the class name without the parentheses."
   ]
  },
  {
   "cell_type": "markdown",
   "id": "cedcc2b0",
   "metadata": {},
   "source": [
    "# 4. What makes the first argument in a class’s method function special?"
   ]
  },
  {
   "cell_type": "markdown",
   "id": "d69d386b",
   "metadata": {},
   "source": [
    "The first argument in a class's method function is typically named \"self\" and is used to reference the instance of the class on which the method is being called. This argument is automatically passed to the method when it is called on an instance of the class. The \"self\" argument is used to access the properties and methods of the class from within the method, and it is what allows the method to operate on the specific instance of the class on which it is called.\n",
    "\n"
   ]
  },
  {
   "cell_type": "markdown",
   "id": "2980277e",
   "metadata": {},
   "source": [
    "# 5. What is the purpose of the \"__init__\" method?"
   ]
  },
  {
   "cell_type": "markdown",
   "id": "b4ed0d77",
   "metadata": {},
   "source": [
    "The __init__ method is a special method in Python classes that is automatically called when an instance of the class is created. It is used to initialize the attributes of the class and set them to the default values. It is also known as the constructor method."
   ]
  },
  {
   "cell_type": "markdown",
   "id": "6a0a7468",
   "metadata": {},
   "source": [
    "# 6. What is the process for creating a class instance?"
   ]
  },
  {
   "cell_type": "markdown",
   "id": "60b02ef8",
   "metadata": {},
   "source": [
    "1. Define the class: The first step is to define the class using the class keyword, followed by the name of the class. The class definition includes the properties and methods that the class will have.\n",
    "\n",
    "2. Call the constructor: To create an instance of the class, you use the name of the class followed by parentheses. This calls the class's constructor, which is a special method called __init__. The constructor is responsible for initializing the attributes of the class and setting them to the default values.\n",
    "\n",
    "3. Pass any required arguments: The constructor method may require some arguments to be passed along with the class name, for example, for setting the initial values of the properties.\n",
    "\n",
    "4. Assign the instance to a variable: The instance is an object, and it is usually assigned to a variable."
   ]
  },
  {
   "cell_type": "code",
   "execution_count": 31,
   "id": "2b665e60",
   "metadata": {},
   "outputs": [],
   "source": [
    "class Car:\n",
    "    def __init__(self, make, model, year):\n",
    "        self.make = make\n",
    "        self.model = model\n",
    "        self.year = year\n",
    "\n",
    "my_car = Car(\"Toyota\", \"Prius\", 2018)\n"
   ]
  },
  {
   "cell_type": "markdown",
   "id": "7c2070a4",
   "metadata": {},
   "source": [
    "# 7. What is the process for creating a class?\n"
   ]
  },
  {
   "cell_type": "markdown",
   "id": "cc54d428",
   "metadata": {},
   "source": [
    "1. Define the class: The first step is to define the class using the class keyword, followed by the name of the class. The class definition starts with the class keyword, followed by the name of the class and a colon.\n",
    "\n",
    "2. Define class attributes: The next step is to define the attributes of the class. These are the properties or variables that the class will have. The attributes are usually defined in the class constructor method __init__, which is automatically called when an instance of the class is created.\n",
    "\n",
    "3. Define class methods: In addition to attributes, classes can also have methods, which are functions that are associated with the class and can operate on the class's attributes.\n",
    "\n",
    "4. Use the class: Once the class is defined, it can be used to create instances of the class, which are objects that have the attributes and methods defined by the class."
   ]
  },
  {
   "cell_type": "code",
   "execution_count": 32,
   "id": "0484c83f",
   "metadata": {},
   "outputs": [
    {
     "name": "stdout",
     "output_type": "stream",
     "text": [
      "Driving Toyota Prius\n"
     ]
    }
   ],
   "source": [
    "class Car:\n",
    "    def __init__(self, make, model, year):\n",
    "        self.make = make\n",
    "        self.model = model\n",
    "        self.year = year\n",
    "    def drive(self):\n",
    "        print(f\"Driving {self.make} {self.model}\")\n",
    "\n",
    "my_car = Car(\"Toyota\", \"Prius\", 2018)\n",
    "my_car.drive()\n"
   ]
  },
  {
   "cell_type": "markdown",
   "id": "99fe836f",
   "metadata": {},
   "source": [
    "# "
   ]
  }
 ],
 "metadata": {
  "kernelspec": {
   "display_name": "Python 3 (ipykernel)",
   "language": "python",
   "name": "python3"
  },
  "language_info": {
   "codemirror_mode": {
    "name": "ipython",
    "version": 3
   },
   "file_extension": ".py",
   "mimetype": "text/x-python",
   "name": "python",
   "nbconvert_exporter": "python",
   "pygments_lexer": "ipython3",
   "version": "3.9.12"
  }
 },
 "nbformat": 4,
 "nbformat_minor": 5
}
