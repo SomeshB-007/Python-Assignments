{
 "cells": [
  {
   "cell_type": "markdown",
   "id": "ea59dc16",
   "metadata": {},
   "source": [
    "# 1. Create a function that takes an integer and returns a list from 1 to the given number, where:\n",
    "####  - 1. If the number can be divided evenly by 4, amplify it by 10 (i.e. return 10 times the number).\n",
    "#### - 2. If the number cannot be divided evenly by 4, simply return the number."
   ]
  },
  {
   "cell_type": "code",
   "execution_count": 50,
   "id": "f7e88bb4",
   "metadata": {},
   "outputs": [
    {
     "name": "stdout",
     "output_type": "stream",
     "text": [
      "Insert the number: 21\n"
     ]
    },
    {
     "data": {
      "text/plain": [
       "[1, 2, 3, 40, 5, 6, 7, 80, 9, 10, 11, 120, 13, 14, 15, 160, 17, 18, 19, 200]"
      ]
     },
     "execution_count": 50,
     "metadata": {},
     "output_type": "execute_result"
    }
   ],
   "source": [
    "def return_list(num):\n",
    " \n",
    "    my_list = [] # This will store the final result \n",
    "    \n",
    "    # From here the loop will begin\n",
    "    for i in range(1, int(num), 1): \n",
    "        if i%4 == 0: # This condition will check if the ith num is divisible by 4 \n",
    "            i = i*10 # If i is divisible by 4 then it will be multiplied by 10\n",
    "        my_list.append(i)  \n",
    "    return my_list\n",
    "        \n",
    "\n",
    "    \n",
    "return_list(num = int(input(\"Insert the number: \")))"
   ]
  },
  {
   "cell_type": "markdown",
   "id": "953e5629",
   "metadata": {},
   "source": [
    "# 2. Create a function that takes a list of numbers and return the number that&#39;s unique."
   ]
  },
  {
   "cell_type": "code",
   "execution_count": 378,
   "id": "b85d3e90",
   "metadata": {},
   "outputs": [
    {
     "name": "stdout",
     "output_type": "stream",
     "text": [
      "Give us a list of 5 numbers: 11223\n"
     ]
    },
    {
     "data": {
      "text/plain": [
       "[1, 2, 3]"
      ]
     },
     "execution_count": 378,
     "metadata": {},
     "output_type": "execute_result"
    }
   ],
   "source": [
    "def uni_num(num):\n",
    "    \n",
    "    my_list = [] # This will store the unique number\n",
    "    \n",
    "    for i in num:\n",
    "        if i not in my_list: # This will check whether the number is there in my_list variable, if not then only it will append it\n",
    "            my_list.append(i) # This will store the list with string\n",
    "    return list(map(int, my_list)) # This will convert the list into integer\n",
    "\n",
    "num = input(\"Give us a list of 5 numbers: \")\n",
    "\n",
    "uni_num(num)\n",
    "    \n"
   ]
  },
  {
   "cell_type": "markdown",
   "id": "518670b0",
   "metadata": {},
   "source": [
    "# 3.Your task is to create a Circle constructor that creates a circle with a radius provided by an argument. The circles constructed must have two getters getArea() (PIr^2) and getPerimeter() (2PI*r) which give both respective areas and perimeter (circumference)."
   ]
  },
  {
   "cell_type": "code",
   "execution_count": 366,
   "id": "f9a9db11",
   "metadata": {},
   "outputs": [
    {
     "name": "stdout",
     "output_type": "stream",
     "text": [
      "Insert the radius to calculate Area: 11\n",
      "Insert the area to calculate Perimeter: 4.44\n",
      "\n",
      "This is the Area of the circle:  380.13\n",
      "This is the Perimeter of the circle 27.9\n"
     ]
    }
   ],
   "source": [
    "def circle(radius, circumference): #This is the function for the circle\n",
    "    \n",
    "    def getArea(radius): #This is the function to get the area with the help of radius\n",
    "        temp = 0\n",
    "        new_temp = float(radius) # This will convert the radius into float so that we can perform the math on it\n",
    "        temp += round(3.141592653589793238 * (new_temp ** 2),2) # This is the formula (PI*r^2) to calculate the area which will be added to the templvariable\n",
    "        return temp\n",
    "\n",
    "    def getPerimeter(circumference): # This is the function to get the perimeter \n",
    "        temp = 0\n",
    "        new_temp = float(circumference_radius) # Here the value will store and converted to the float datatype  \n",
    "        temp += round(2* 3.141592653589793238 * circumference_radius, 2) # This is the formula (2*PI*r) to calculate the Perimeter\n",
    "        return temp\n",
    "\n",
    "    radius = int(input(\"Insert the radius to calculate Area: \")) # This will ask for the radius\n",
    "    circumference_radius = float(input(\"Insert the area to calculate Perimeter: \")) # This will ask for the Circumference radius\n",
    "    \n",
    "    print(\"\\nThis is the Area of the circle: \", getArea(radius))\n",
    "    print(\"This is the Perimeter of the circle\", getPerimeter(circumference))\n",
    "    \n",
    "circle(radius, circumference)\n"
   ]
  },
  {
   "cell_type": "markdown",
   "id": "5ef16ad4",
   "metadata": {},
   "source": [
    "# 4. Create a function that takes a list of strings and return a list, sorted from shortest to longest."
   ]
  },
  {
   "cell_type": "code",
   "execution_count": 365,
   "id": "b50724dd",
   "metadata": {},
   "outputs": [
    {
     "data": {
      "text/plain": [
       "['Apple', 'Google', 'Microsoft']"
      ]
     },
     "execution_count": 365,
     "metadata": {},
     "output_type": "execute_result"
    }
   ],
   "source": [
    "def sorted_list():\n",
    "  \n",
    "    it_list.sort(key=len, reverse=False) #This will sort the string from short to long\n",
    "    return it_list # This will return the sorted list\n",
    "    \n",
    "        \n",
    "it_list = [\"Google\", \"Apple\", \"Microsoft\"]\n",
    "sorted_list()\n",
    "    "
   ]
  },
  {
   "cell_type": "markdown",
   "id": "ee759417",
   "metadata": {},
   "source": [
    "# 5. Create a function that validates whether three given integers form a Pythagorean triplet. The sum of the squares of the two smallest integers must equal the square of the largest number to be validated."
   ]
  },
  {
   "cell_type": "code",
   "execution_count": 360,
   "id": "70d3ff74",
   "metadata": {},
   "outputs": [
    {
     "name": "stdout",
     "output_type": "stream",
     "text": [
      "True\n"
     ]
    }
   ],
   "source": [
    "def Pythogorean_triplet(num):\n",
    "    large = max(num) # This variable will store the large number in the list\n",
    "    small = [] # This variable will store the smaller numbers in the lsit\n",
    "   \n",
    "\n",
    "    # With the help of this loop we can store the small values in the \"Small\" variable \n",
    "    for i in num:\n",
    "        if i != large:\n",
    "            small.append(i)\n",
    "    \n",
    "    # This condition will check whether the squares of two small numbers is equal to the square of the largest number in the list \n",
    "    if ((small[0] ** 2 + small[1] ** 2) == large ** 2):\n",
    "        return True\n",
    "    else:\n",
    "        return False\n",
    "    \n",
    "        \n",
    "print(Pythogorean_triplet([17, 15, 8]))\n",
    "    "
   ]
  },
  {
   "cell_type": "code",
   "execution_count": null,
   "id": "ec811ef6",
   "metadata": {},
   "outputs": [],
   "source": []
  }
 ],
 "metadata": {
  "kernelspec": {
   "display_name": "Python 3 (ipykernel)",
   "language": "python",
   "name": "python3"
  },
  "language_info": {
   "codemirror_mode": {
    "name": "ipython",
    "version": 3
   },
   "file_extension": ".py",
   "mimetype": "text/x-python",
   "name": "python",
   "nbconvert_exporter": "python",
   "pygments_lexer": "ipython3",
   "version": "3.9.12"
  }
 },
 "nbformat": 4,
 "nbformat_minor": 5
}
