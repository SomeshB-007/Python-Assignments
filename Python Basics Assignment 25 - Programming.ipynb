{
 "cells": [
  {
   "cell_type": "markdown",
   "id": "ee6f1d09",
   "metadata": {},
   "source": [
    "# 1. Create a function that takes three integer arguments (a, b, c) and returns the amount of integers which are of equal value."
   ]
  },
  {
   "cell_type": "code",
   "execution_count": 17,
   "id": "4a9321ed",
   "metadata": {},
   "outputs": [
    {
     "name": "stdout",
     "output_type": "stream",
     "text": [
      "2\n",
      "3\n",
      "0\n"
     ]
    }
   ],
   "source": [
    "def equal_values(a,b,c):\n",
    "    \n",
    "    try: \n",
    "        if a==b==c:\n",
    "            print(3)\n",
    "        elif a==c:\n",
    "            print(2)\n",
    "        elif a==b:\n",
    "            print(2)\n",
    "        elif b==c:\n",
    "            print(2)\n",
    "        else:\n",
    "            print(0)\n",
    "            \n",
    "    except Exception as e:\n",
    "        print(e)\n",
    "        \n",
    "        \n",
    "equal_values(3, 4, 3) # This will return 2\n",
    "\n",
    "equal_values(1, 1, 1) # This will return 3\n",
    "\n",
    "equal_values(3, 4, 1) # This will return 0"
   ]
  },
  {
   "cell_type": "markdown",
   "id": "74c76b3c",
   "metadata": {},
   "source": [
    "# 2. Write a function that converts a dictionary into a list of keys-values tuples."
   ]
  },
  {
   "cell_type": "code",
   "execution_count": 42,
   "id": "d79d7c12",
   "metadata": {},
   "outputs": [
    {
     "name": "stdout",
     "output_type": "stream",
     "text": [
      "(('D', 1), ('B', 2), ('C', 3))\n"
     ]
    }
   ],
   "source": [
    "dict_to_list = {\n",
    "  \"D\": 1,\n",
    "  \"B\": 2,\n",
    "  \"C\": 3,\n",
    "} \n",
    "\n",
    "tuple_list = tuple(dict_to_list.items())\n",
    "print(tuple_list)"
   ]
  },
  {
   "cell_type": "markdown",
   "id": "c7d55262",
   "metadata": {},
   "source": [
    "# 3. Write a function that creates a dictionary with each (key, value) pair being the (lower case, upper case) versions of a letter, respectively."
   ]
  },
  {
   "cell_type": "code",
   "execution_count": 6,
   "id": "df8b5542",
   "metadata": {},
   "outputs": [
    {
     "data": {
      "text/plain": [
       "{'a': 'A', 'v': 'V'}"
      ]
     },
     "execution_count": 6,
     "metadata": {},
     "output_type": "execute_result"
    }
   ],
   "source": [
    "#mapping = [\"a\", \"b\"]\n",
    "\n",
    "def blank(d): \n",
    "    new_dict = {}\n",
    "    \n",
    "    try:\n",
    "        for i in d:\n",
    "            if type(i) == str:\n",
    "                i = i.upper()\n",
    "                ii = i.lower()\n",
    "                new_dict[ii] = i\n",
    "        return new_dict\n",
    "    \n",
    "    except Exception as e:\n",
    "        print(e)\n",
    "            \n",
    "blank([\"a\", \"v\"])"
   ]
  },
  {
   "cell_type": "markdown",
   "id": "20a812ac",
   "metadata": {},
   "source": [
    "# 4. Write a function, that replaces all vowels in a string with a specified vowel.\n"
   ]
  },
  {
   "cell_type": "code",
   "execution_count": 20,
   "id": "c9326210",
   "metadata": {},
   "outputs": [
    {
     "name": "stdout",
     "output_type": "stream",
     "text": [
      "Insert the Vowel to replace the other vowela\n",
      "My nama as Samash and a am parsaang tha Data Scaanca Caarca. Carrantly a am daang a pythan assagnmant\n"
     ]
    }
   ],
   "source": [
    "vowel = input(\"Insert the Vowel to replace the other vowel\")\n",
    "\n",
    "vowel_list = [\"a\", \"e\", \"i\", \"o\", \"u\", \"A\", \"E\", \"I\", \"O\", \"U\",]\n",
    "sent = \"My name is Somesh and I am pursuing the Data Science Cource. Currently I am doing a python assignment\"\n",
    "new_sent = \"\"\n",
    "\n",
    "try:\n",
    "    for i in sent:\n",
    "        if i in vowel_list:\n",
    "            new_sent += vowel\n",
    "        else:\n",
    "            new_sent += i\n",
    "except Exception as e:\n",
    "    print(e)\n",
    "        \n",
    "print(new_sent)\n",
    "        "
   ]
  },
  {
   "cell_type": "markdown",
   "id": "e037f669",
   "metadata": {},
   "source": [
    "# 5. Create a function that takes a string as input and capitalizes a letter if its ASCII code is even and returns its lower case version if its ASCII code is odd.\n"
   ]
  },
  {
   "cell_type": "code",
   "execution_count": 50,
   "id": "4f042d2c",
   "metadata": {},
   "outputs": [
    {
     "name": "stdout",
     "output_type": "stream",
     "text": [
      "my Name is somesH aND i am PuRsuiNg THe DaTa scieNce couRce. cuRReNTLy i am DoiNg a PyTHoN assigNmeNT\n"
     ]
    }
   ],
   "source": [
    "string = \"My name is Somesh and I am pursuing the Data Science Cource. Currently I am doing a python assignment\"\n",
    "\n",
    "new_string = \"\"\n",
    "\n",
    "try:\n",
    "     \n",
    "    for i in string:\n",
    "        if ord(i)%2 == 0:\n",
    "            i = i.upper()\n",
    "            new_string += i\n",
    "        else:\n",
    "            i = i.lower()\n",
    "            new_string += i\n",
    "        \n",
    "except Exception as e:\n",
    "    print(e)\n",
    "    \n",
    "print(new_string)\n",
    "        \n",
    "\n"
   ]
  },
  {
   "cell_type": "code",
   "execution_count": null,
   "id": "2219c01c",
   "metadata": {},
   "outputs": [],
   "source": []
  },
  {
   "cell_type": "code",
   "execution_count": null,
   "id": "71ef18b1",
   "metadata": {},
   "outputs": [],
   "source": []
  }
 ],
 "metadata": {
  "kernelspec": {
   "display_name": "Python 3 (ipykernel)",
   "language": "python",
   "name": "python3"
  },
  "language_info": {
   "codemirror_mode": {
    "name": "ipython",
    "version": 3
   },
   "file_extension": ".py",
   "mimetype": "text/x-python",
   "name": "python",
   "nbconvert_exporter": "python",
   "pygments_lexer": "ipython3",
   "version": "3.9.12"
  }
 },
 "nbformat": 4,
 "nbformat_minor": 5
}
