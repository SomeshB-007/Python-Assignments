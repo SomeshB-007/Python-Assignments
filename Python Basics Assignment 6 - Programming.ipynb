{
 "cells": [
  {
   "cell_type": "markdown",
   "id": "50051921",
   "metadata": {},
   "source": [
    "# 1. Write a Python Program to Display Fibonacci Sequence Using Recursion?"
   ]
  },
  {
   "cell_type": "code",
   "execution_count": 30,
   "id": "5d2604bc",
   "metadata": {},
   "outputs": [
    {
     "name": "stdout",
     "output_type": "stream",
     "text": [
      "Fibonacci Sequence\n",
      "0\n",
      "1\n",
      "1\n",
      "2\n",
      "3\n",
      "5\n",
      "8\n",
      "13\n",
      "21\n",
      "34\n",
      "55\n",
      "89\n",
      "144\n",
      "233\n",
      "377\n"
     ]
    }
   ],
   "source": [
    "#THis is tehe function for the Fibonacci Sequence\n",
    "\n",
    "def fib_seq(n):\n",
    "    if n <= 1:\n",
    "        return n\n",
    "    else:\n",
    "        return(fib_seq(n-1) + fib_seq(n-2))\n",
    "    \n",
    "n = 15\n",
    "\n",
    "#This is the condition for the recursion \n",
    "if n <= 0:\n",
    "    print(\"Please insert more than ZERO\")\n",
    "elif n > 30:\n",
    "    print(\"Please insert less than 30\")\n",
    "else:\n",
    "    print(\"Fibonacci Sequence\")\n",
    "    \n",
    "    for i in range(n):# This will run the loop\n",
    "        print(fib_seq(i)) #This is calling the function\n"
   ]
  },
  {
   "cell_type": "markdown",
   "id": "6495d440",
   "metadata": {},
   "source": [
    "# 2. Write a Python Program to Find Factorial of Number Using Recursion?"
   ]
  },
  {
   "cell_type": "code",
   "execution_count": 40,
   "id": "286fadd4",
   "metadata": {},
   "outputs": [
    {
     "name": "stdout",
     "output_type": "stream",
     "text": [
      "The factorial of  5 is 120\n"
     ]
    }
   ],
   "source": [
    "# Function for the factorial number\n",
    "\n",
    "def factorial_number(n):\n",
    "    if n == 1:\n",
    "        return n \n",
    "    else: \n",
    "        return n * factorial_number(n-1)\n",
    "    \n",
    "n = 5\n",
    "\n",
    "\n",
    "# This is the condition to call the function\n",
    "if n < 0 :\n",
    "    print(\"Insert he number greater than ZERO\")\n",
    "    \n",
    "else:\n",
    "    print(\"The factorial of \", n, \"is\", factorial_number(n))\n",
    "    \n",
    "    \n",
    "    \n"
   ]
  },
  {
   "cell_type": "markdown",
   "id": "08969d5a",
   "metadata": {},
   "source": [
    "# 3. Write a Python Program to calculate your Body Mass Index?"
   ]
  },
  {
   "cell_type": "code",
   "execution_count": 52,
   "id": "c40acbe1",
   "metadata": {},
   "outputs": [
    {
     "name": "stdout",
     "output_type": "stream",
     "text": [
      "28.37\n"
     ]
    }
   ],
   "source": [
    "# To calculate the Body Mass Index we will use the formula weight (kg) / [height (m)]2\n",
    "\n",
    "height = 1.83 #sq.mt\n",
    "div_height = height * height\n",
    "weight = 95 #KG\n",
    "\n",
    "bmi = weight/div_height\n",
    "print(round(bmi, 2))"
   ]
  },
  {
   "cell_type": "markdown",
   "id": "35a3fcae",
   "metadata": {},
   "source": [
    " # 4. Write a Python Program to calculate the natural logarithm of any number?"
   ]
  },
  {
   "cell_type": "code",
   "execution_count": 58,
   "id": "fb47e978",
   "metadata": {},
   "outputs": [
    {
     "name": "stdout",
     "output_type": "stream",
     "text": [
      "Insert number: 5\n",
      "Natural logarithm of  5 is  1.6094379124341003\n"
     ]
    }
   ],
   "source": [
    "import math\n",
    "\n",
    "log_num = int(input(\"Insert number: \"))\n",
    "final_ans = math.log(log_num)\n",
    "print(\"Natural logarithm of \", log_num, \"is \", final_ans) \n"
   ]
  },
  {
   "cell_type": "markdown",
   "id": "3b00cac5",
   "metadata": {},
   "source": [
    "# 5. Write a Python Program for cube sum of first n natural numbers?"
   ]
  },
  {
   "cell_type": "code",
   "execution_count": 91,
   "id": "ff050f79",
   "metadata": {},
   "outputs": [
    {
     "name": "stdout",
     "output_type": "stream",
     "text": [
      "36\n"
     ]
    }
   ],
   "source": [
    "# This is the function to cube sum \n",
    "\n",
    "def sumOfSeries(n):\n",
    "    x = (n * (n + 1)  / 2)\n",
    "    return (int)(x * x)\n",
    " \n",
    " \n",
    "  \n",
    "# Driver Function\n",
    "n = 3\n",
    "print(sumOfSeries(n))"
   ]
  },
  {
   "cell_type": "code",
   "execution_count": null,
   "id": "d2f4d139",
   "metadata": {},
   "outputs": [],
   "source": []
  }
 ],
 "metadata": {
  "kernelspec": {
   "display_name": "Python 3 (ipykernel)",
   "language": "python",
   "name": "python3"
  },
  "language_info": {
   "codemirror_mode": {
    "name": "ipython",
    "version": 3
   },
   "file_extension": ".py",
   "mimetype": "text/x-python",
   "name": "python",
   "nbconvert_exporter": "python",
   "pygments_lexer": "ipython3",
   "version": "3.9.12"
  }
 },
 "nbformat": 4,
 "nbformat_minor": 5
}
