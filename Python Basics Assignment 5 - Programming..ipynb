{
 "cells": [
  {
   "cell_type": "markdown",
   "id": "237a5fcb",
   "metadata": {},
   "source": [
    "# 1. Write a Python Program to Find LCM?"
   ]
  },
  {
   "cell_type": "code",
   "execution_count": 23,
   "id": "a3c8be04",
   "metadata": {},
   "outputs": [
    {
     "name": "stdout",
     "output_type": "stream",
     "text": [
      "Insert num1 to find its LCM: 24\n",
      "Insert num2 to find its LCM: 36\n",
      "LCM of  24 and  36 is  72\n"
     ]
    }
   ],
   "source": [
    "def count_lcm(num1, num2):\n",
    "    if num1 > num2:\n",
    "        high_value = num1\n",
    "    else:\n",
    "        high_value = num2 \n",
    "    \n",
    "    multiple = high_value\n",
    "    \n",
    "    while(1):\n",
    "        if high_value % num1 == 0 and high_value % num2 == 0:\n",
    "            print(\"LCM of \", num1, \"and \", num2, \"is \", high_value)\n",
    "            break\n",
    "        else:\n",
    "            high_value = high_value + multiple\n",
    "\n",
    "num1 = int(input(\"Insert num1 to find its LCM: \"))\n",
    "num2 = int(input(\"Insert num2 to find its LCM: \"))\n",
    "\n",
    "count_lcm(num1, num2)\n"
   ]
  },
  {
   "cell_type": "markdown",
   "id": "7babfa3f",
   "metadata": {},
   "source": [
    "# 2. Write a Python Program to Find HCF?\n"
   ]
  },
  {
   "cell_type": "code",
   "execution_count": 32,
   "id": "103f3b65",
   "metadata": {},
   "outputs": [],
   "source": [
    " def hcf(a, b):\n",
    "        if a > b:\n",
    "            smaller_value = b\n",
    "        else:\n",
    "            smaller_value = a\n",
    "            \n",
    "            for i in range(1, smaller_value, +1):\n",
    "                if((a % i == 0) and (b % i == 0)):  \n",
    "                    hcf = i  \n",
    "            return hcf  "
   ]
  },
  {
   "cell_type": "code",
   "execution_count": 33,
   "id": "00788366",
   "metadata": {},
   "outputs": [
    {
     "data": {
      "text/plain": [
       "8"
      ]
     },
     "execution_count": 33,
     "metadata": {},
     "output_type": "execute_result"
    }
   ],
   "source": [
    "hcf(16, 24)"
   ]
  },
  {
   "cell_type": "markdown",
   "id": "ee07dd96",
   "metadata": {},
   "source": [
    "# 3. Write a Python Program to Convert Decimal to Binary, Octal and Hexadecimal?"
   ]
  },
  {
   "cell_type": "code",
   "execution_count": 50,
   "id": "18b5d9e5",
   "metadata": {},
   "outputs": [
    {
     "name": "stdout",
     "output_type": "stream",
     "text": [
      "Insert the decimal number344\n",
      "The Binary of  344  is 0b101011000\n"
     ]
    }
   ],
   "source": [
    "decimal = int(input(\"Insert the decimal number\"))\n",
    "\n",
    "print(\"The Binary of \", decimal,\" is\", bin(decimal))\n",
    "print(:\n"
   ]
  },
  {
   "cell_type": "code",
   "execution_count": 51,
   "id": "f990579c",
   "metadata": {},
   "outputs": [
    {
     "name": "stdout",
     "output_type": "stream",
     "text": [
      "Insert the decimal number344\n",
      "The Binary of  344  is 0b101011000\n",
      "The Octal of  344  is 0o530\n",
      "The Hexadecimal of  344  is 0x158\n"
     ]
    }
   ],
   "source": [
    "decimal = int(input(\"Insert the decimal number\"))\n",
    "\n",
    "print(\"The Binary of \", decimal, \" is\", bin(decimal))\n",
    "print(\"The Octal of \", decimal, \" is\", oct(decimal))\n",
    "print(\"The Hexadecimal of \", decimal, \" is\", hex(decimal))"
   ]
  },
  {
   "cell_type": "markdown",
   "id": "743b1ad2",
   "metadata": {},
   "source": [
    "# 4. Write a Python Program To Find ASCII value of a character?"
   ]
  },
  {
   "cell_type": "code",
   "execution_count": 2,
   "id": "cffd9113",
   "metadata": {},
   "outputs": [
    {
     "name": "stdout",
     "output_type": "stream",
     "text": [
      "Please enter a character: a\n",
      "The ASCII value of 'a' is  97\n"
     ]
    }
   ],
   "source": [
    "var = input(\"Please enter a character: \")    \n",
    "    \n",
    "print (\"The ASCII value of '\" + var + \"' is \", ord(var))  "
   ]
  },
  {
   "cell_type": "markdown",
   "id": "308309e2",
   "metadata": {},
   "source": [
    "# 5. Write a Python Program to Make a Simple Calculator with 4 basic mathematical operations? "
   ]
  },
  {
   "cell_type": "code",
   "execution_count": 35,
   "id": "c2e61101",
   "metadata": {},
   "outputs": [
    {
     "name": "stdout",
     "output_type": "stream",
     "text": [
      "Select the Operation: \n",
      "1. Add, 2. Sub, 3. Mul, 4. Div2\n",
      "Insert the num13\n",
      "Insert the num22\n",
      "The Subtraction of  3  -  2  is 1\n",
      "More Calculations? Y/Nn\n"
     ]
    }
   ],
   "source": [
    "def add(num1, num2): # This is the function for Addition\n",
    "    return num1+num2\n",
    "\n",
    "def sub(num1, num2): # This is the function for Subtraction\n",
    "    return num1-num2\n",
    "\n",
    "def mul(num1, num2): # This is the function for Multiplication\n",
    "    return num1*num2\n",
    "\n",
    "def div(num1, num2): # This is the function for Division\n",
    "    return num1/um2\n",
    "\n",
    "    \n",
    "while True:\n",
    "    \n",
    "    calculation_choice = int(input(\"Select the Operation: \\n1. Add, 2. Sub, 3. Mul, 4. Div\")) # This will ask for the mathematical operation selection\n",
    "\n",
    "    if calculation_choice < 1 or calculation_choice > 4:\n",
    "        print(\"Please insert the num between 1-4\")\n",
    "    else:\n",
    "        num1 = int(input(\"Insert the num1\"))\n",
    "        num2 = int(input(\"Insert the num2\"))\n",
    "    \n",
    "    \n",
    "        \n",
    "    if calculation_choice == 1:\n",
    "        print(\"The Addition of \", num1, \" + \", num2, \" is\", add(num1,num2))\n",
    "        \n",
    "    elif calculation_choice == 2:\n",
    "        print(\"The Subtraction of \", num1, \" - \", num2, \" is\", sub(num1, num2))\n",
    "        \n",
    "    elif calculation_choice == 3:\n",
    "        print(\"The Multiplication of \", num1, \" x \", num2, \" is\", mul(num1, num2))\n",
    "        \n",
    "    elif calculation_choice == 4:\n",
    "        print(\"The Division of \", num1, \"/\", num2, \" is\", div(num1, num2))\n",
    "    more = input(\"More Calculations? Y/N\")\n",
    "    if more == \"N\" or \"n\":\n",
    "        break\n",
    "   \n",
    "        "
   ]
  }
 ],
 "metadata": {
  "kernelspec": {
   "display_name": "Python 3 (ipykernel)",
   "language": "python",
   "name": "python3"
  },
  "language_info": {
   "codemirror_mode": {
    "name": "ipython",
    "version": 3
   },
   "file_extension": ".py",
   "mimetype": "text/x-python",
   "name": "python",
   "nbconvert_exporter": "python",
   "pygments_lexer": "ipython3",
   "version": "3.9.12"
  }
 },
 "nbformat": 4,
 "nbformat_minor": 5
}
