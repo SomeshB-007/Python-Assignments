{
 "cells": [
  {
   "cell_type": "markdown",
   "id": "72966e80",
   "metadata": {},
   "source": [
    "# 1. What is the meaning of multiple inheritance?\n"
   ]
  },
  {
   "cell_type": "markdown",
   "id": "5ad34e69",
   "metadata": {},
   "source": [
    "In object-oriented programming, multiple inheritance is a feature that allows a class to inherit from more than one base class or superclass. This means that a class can have multiple parent classes, and it inherits the properties and methods from all of them.\n",
    "\n",
    "For example, consider a class Child that inherits from two classes Parent1 and Parent2. The Child class will have access to all the properties and methods defined in Parent1 and Parent2."
   ]
  },
  {
   "cell_type": "code",
   "execution_count": 6,
   "id": "3648c257",
   "metadata": {},
   "outputs": [
    {
     "name": "stdout",
     "output_type": "stream",
     "text": [
      "method1 from Parent1\n",
      "method2 from Parent2\n"
     ]
    }
   ],
   "source": [
    "class Parent1:\n",
    "    def method1(self):\n",
    "        print(\"method1 from Parent1\")\n",
    "\n",
    "class Parent2:\n",
    "    def method2(self):\n",
    "        print(\"method2 from Parent2\")\n",
    "class Parent3:\n",
    "    def method3(self):\n",
    "        print(\"ja be\")\n",
    "\n",
    "class Child(Parent1, Parent2, Parent3):\n",
    "    pass\n",
    "\n",
    "c = Child()\n",
    "c.method1()  # Output: method1 from Parent1\n",
    "c.method2()  # Output: method2 from Parent2\n"
   ]
  },
  {
   "cell_type": "markdown",
   "id": "dd632062",
   "metadata": {},
   "source": [
    "# 2. What is the concept of delegation?\n"
   ]
  },
  {
   "cell_type": "markdown",
   "id": "84531f4c",
   "metadata": {},
   "source": [
    "Delegation is a design pattern in object-oriented programming where an object, instead of performing a certain behavior itself, delegates that behavior to another object. This allows for a separation of concerns and promotes code reusability.\"\n"
   ]
  },
  {
   "cell_type": "markdown",
   "id": "81f95131",
   "metadata": {},
   "source": [
    "# 3. What is the concept of composition?\n",
    "\n"
   ]
  },
  {
   "cell_type": "markdown",
   "id": "a073574c",
   "metadata": {},
   "source": [
    "Composition is a design pattern in object-oriented programming where an object is composed of one or more other objects, and it uses them to perform its behavior. Composition is a way to reuse existing objects and build new objects from them, instead of creating new objects from scratch."
   ]
  },
  {
   "cell_type": "markdown",
   "id": "9387bb7c",
   "metadata": {},
   "source": [
    "# 4. What are bound methods and how do we use them?"
   ]
  },
  {
   "cell_type": "markdown",
   "id": "eda2e2e7",
   "metadata": {},
   "source": [
    "In Python, a method is a function that is associated with an object, and it can be called on that object. A bound method is a method that is \"bound\" to an object, meaning it has a reference to the object it is associated with. When a bound method is called, it operates on the specific object it is bound to."
   ]
  },
  {
   "cell_type": "markdown",
   "id": "cb398b1f",
   "metadata": {},
   "source": [
    "# 5. What is the purpose of pseudoprivate attributes?"
   ]
  },
  {
   "cell_type": "markdown",
   "id": "2dd288cf",
   "metadata": {},
   "source": [
    "Pseudoprivate attributes are attributes in a class that are intended to be used only within the class or its subclasses, and not by external code. These attributes are not truly private, as they can still be accessed and modified from outside the class, but they are intended to be treated as if they were private."
   ]
  },
  {
   "cell_type": "code",
   "execution_count": null,
   "id": "4f78e428",
   "metadata": {},
   "outputs": [],
   "source": []
  }
 ],
 "metadata": {
  "kernelspec": {
   "display_name": "Python 3 (ipykernel)",
   "language": "python",
   "name": "python3"
  },
  "language_info": {
   "codemirror_mode": {
    "name": "ipython",
    "version": 3
   },
   "file_extension": ".py",
   "mimetype": "text/x-python",
   "name": "python",
   "nbconvert_exporter": "python",
   "pygments_lexer": "ipython3",
   "version": "3.9.12"
  }
 },
 "nbformat": 4,
 "nbformat_minor": 5
}
