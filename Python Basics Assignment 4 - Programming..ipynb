{
 "cells": [
  {
   "cell_type": "markdown",
   "id": "c65f81c2",
   "metadata": {},
   "source": [
    "# 1. Write a Python Program to Find the Factorial of a Number?\n"
   ]
  },
  {
   "cell_type": "code",
   "execution_count": 5,
   "id": "0947ffab",
   "metadata": {},
   "outputs": [
    {
     "name": "stdout",
     "output_type": "stream",
     "text": [
      "Insert the number of which you want to find the factorial5\n",
      "The factorial of 5 is 120\n"
     ]
    }
   ],
   "source": [
    "num = int(input(\"Insert the number of which you want to find the factorial\"))\n",
    "factorial = 1\n",
    "\n",
    "#This is the condition for the negative integers\n",
    "\n",
    "if num < 0:\n",
    "       print(\"Sorry, factorial does not exist for negative numbers\")\n",
    "\n",
    "elif num == 0:\n",
    "    print(\"The factorial of 0 is 1\")\n",
    "    \n",
    "#This is the condition for finding the factorial of any number    \n",
    "else:\n",
    "    for i in range(1,num + 1):\n",
    "        factorial = factorial*i\n",
    "    print(\"The factorial of\",num,\"is\",factorial)\n",
    "        "
   ]
  },
  {
   "cell_type": "markdown",
   "id": "01fd43fb",
   "metadata": {},
   "source": [
    "# 2. Write a Python Program to Display the multiplication Table?\n"
   ]
  },
  {
   "cell_type": "code",
   "execution_count": 19,
   "id": "2f211af4",
   "metadata": {},
   "outputs": [
    {
     "name": "stdout",
     "output_type": "stream",
     "text": [
      "Insert the number for multiplication table99\n",
      "99  X  1  =  99\n",
      "99  X  2  =  198\n",
      "99  X  3  =  297\n",
      "99  X  4  =  396\n",
      "99  X  5  =  495\n",
      "99  X  6  =  594\n",
      "99  X  7  =  693\n",
      "99  X  8  =  792\n",
      "99  X  9  =  891\n",
      "99  X  10  =  990\n"
     ]
    }
   ],
   "source": [
    "num = int(input(\"Insert the number for multiplication table\"))\n",
    "\n",
    "if num < 0:\n",
    "    print(\"Please insert the Positive number\")\n",
    "elif num == 0:\n",
    "    print(\"\\nMultiplication with any number will ZERO everytime \\nPlease insert the Positive number\")\n",
    "\n",
    "#This is the condition to view the table for any number\n",
    "\n",
    "for i in range(1, 11):\n",
    "    print(num, \" X \", i, \" = \", num*i)\n",
    "       \n"
   ]
  },
  {
   "cell_type": "markdown",
   "id": "887b3133",
   "metadata": {},
   "source": [
    "# 3. Write a Python Program to Print the Fibonacci sequence?\n"
   ]
  },
  {
   "cell_type": "code",
   "execution_count": 1,
   "id": "e6d24641",
   "metadata": {},
   "outputs": [],
   "source": [
    "# Fibonacci sequence is infinite but here we are finding the fibonacci sequence of first 15 \n",
    "\n",
    "def fib(n):\n",
    "    a = 1\n",
    "    b = 1\n",
    "    \n",
    "    for i in range(n):\n",
    "        yield a,i\n",
    "        a, b = b, a+b"
   ]
  },
  {
   "cell_type": "code",
   "execution_count": 7,
   "id": "d31d3087",
   "metadata": {},
   "outputs": [
    {
     "name": "stdout",
     "output_type": "stream",
     "text": [
      "(1, 0)\n",
      "(1, 1)\n",
      "(2, 2)\n",
      "(3, 3)\n",
      "(5, 4)\n",
      "(8, 5)\n",
      "(13, 6)\n",
      "(21, 7)\n",
      "(34, 8)\n",
      "(55, 9)\n"
     ]
    }
   ],
   "source": [
    "for i in fib(10):\n",
    "    print(i)"
   ]
  },
  {
   "cell_type": "markdown",
   "id": "3e8bfdaf",
   "metadata": {},
   "source": [
    "# 4. Write a Python Program to Check Armstrong Number?\n"
   ]
  },
  {
   "cell_type": "code",
   "execution_count": 25,
   "id": "870a001d",
   "metadata": {},
   "outputs": [
    {
     "name": "stdout",
     "output_type": "stream",
     "text": [
      "Insert the number to find whether the number is armstrong number or not153\n",
      "Yes 153 is a Armstrong Number\n"
     ]
    }
   ],
   "source": [
    "num = input(\"Insert the number to find whether the number is armstrong number or not\")\n",
    "\n",
    "summ = 0 # This is the dummy variable which we will use for comparison further\n",
    "\n",
    "for digit in num:\n",
    "    summ += int(digit)**3 # Here we will do the math \n",
    "if summ == int(num): # Here we will check if the sum of cubes is equal to the num\n",
    "    print(\"Yes\", num, \"is a Armstrong Number\")\n",
    "else:\n",
    "    print(\"No\", num, \"is not a Armstrong Number\")\n"
   ]
  },
  {
   "cell_type": "markdown",
   "id": "203164d9",
   "metadata": {},
   "source": [
    "# 5. Write a Python Program to Find Armstrong Number in an Interval?"
   ]
  },
  {
   "cell_type": "code",
   "execution_count": 50,
   "id": "d5056bb8",
   "metadata": {},
   "outputs": [
    {
     "name": "stdout",
     "output_type": "stream",
     "text": [
      "Insert the number to find whether the number is armstrong number or not500\n",
      "\n",
      "These are the armstrong numbers\n",
      "\n",
      "1\n",
      "153\n",
      "370\n",
      "371\n",
      "407\n"
     ]
    }
   ],
   "source": [
    "num_input = int(input(\"Insert the number to find whether the number is armstrong number or not\"))\n",
    "\n",
    "print(\"\\nThese are the armstrong numbers\\n\")\n",
    "\n",
    "# Here we will run the loop to get the Armstrong numbers from 1-500\n",
    "\n",
    "for i in range(1, num_input+1):\n",
    "    final_sum = 0\n",
    "    i = str(i)\n",
    "    for digit in i:\n",
    "        final_sum += int(digit)**3 # Here we will do the math \n",
    "    if final_sum == int(i): # Here we will check if the sum of cubes is equal to the num\n",
    "        print(int(i))\n",
    "\n"
   ]
  },
  {
   "cell_type": "markdown",
   "id": "9b2862f2",
   "metadata": {},
   "source": [
    "# 6. Write a Python Program to Find the Sum of Natural Numbers?\n",
    " "
   ]
  },
  {
   "cell_type": "code",
   "execution_count": 78,
   "id": "356ab84c",
   "metadata": {},
   "outputs": [
    {
     "name": "stdout",
     "output_type": "stream",
     "text": [
      "Insert the number less than 100: 5\n",
      "15\n"
     ]
    }
   ],
   "source": [
    "# As there are infinite natural numbers, here we will find the sum of natural number which is less than 100\n",
    "\n",
    "num = int(input(\"Insert the number less than 100: \"))\n",
    "\n",
    "if num > 100:\n",
    "    print(\"Please insert the number less than 100 \")\n",
    "elif num == 0:\n",
    "    print(\"Sum of Zero is ZERO \")\n",
    "else:\n",
    "    sum = 0\n",
    "    while(num > 0):\n",
    "        sum += num\n",
    "        num -= 1\n",
    "    print(sum)\n",
    "    "
   ]
  },
  {
   "cell_type": "code",
   "execution_count": null,
   "id": "f47e380d",
   "metadata": {},
   "outputs": [],
   "source": []
  }
 ],
 "metadata": {
  "kernelspec": {
   "display_name": "Python 3 (ipykernel)",
   "language": "python",
   "name": "python3"
  },
  "language_info": {
   "codemirror_mode": {
    "name": "ipython",
    "version": 3
   },
   "file_extension": ".py",
   "mimetype": "text/x-python",
   "name": "python",
   "nbconvert_exporter": "python",
   "pygments_lexer": "ipython3",
   "version": "3.9.12"
  }
 },
 "nbformat": 4,
 "nbformat_minor": 5
}
