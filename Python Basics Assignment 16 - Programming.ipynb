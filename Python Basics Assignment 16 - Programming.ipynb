{
 "cells": [
  {
   "cell_type": "code",
   "execution_count": 1,
   "id": "f0440ed4",
   "metadata": {},
   "outputs": [],
   "source": [
    "import logging\n",
    "logging.basicConfig(filename = \"jplogs16.log\", level = logging.INFO, format = '%(asctime)s - %(name)s -  %(levelname)s - %(message)s')"
   ]
  },
  {
   "cell_type": "markdown",
   "id": "554d12e7",
   "metadata": {},
   "source": [
    "# 1. Write a function that stutters a word as if someone is struggling to read it. The first two letters are repeated twice with an ellipsis ... and space after each, and then the word is pronounced with a question mark ?."
   ]
  },
  {
   "cell_type": "code",
   "execution_count": 35,
   "id": "e0d21565",
   "metadata": {},
   "outputs": [
    {
     "data": {
      "text/plain": [
       "'en... en... enthusiastic?'"
      ]
     },
     "execution_count": 35,
     "metadata": {},
     "output_type": "execute_result"
    }
   ],
   "source": [
    "def stutter(s):\n",
    "    final_str = \"\"\n",
    "    try:\n",
    "        logging.info(\"This is the start of s %s\", s)\n",
    "        for i in s[0:2]:\n",
    "                final_str += i\n",
    "        return ((final_str + \"...\") + \" \" ) * 2 + s + \"?\"\n",
    "    except Exception as e:\n",
    "        logging.error(e)\n",
    "      \n",
    "stutter(\"enthusiastic\")"
   ]
  },
  {
   "cell_type": "markdown",
   "id": "301ba4cd",
   "metadata": {},
   "source": [
    "# 2.Create a function that takes an angle in radians and returns the corresponding angle in degrees rounded to one decimal place."
   ]
  },
  {
   "cell_type": "code",
   "execution_count": 55,
   "id": "524aafac",
   "metadata": {},
   "outputs": [
    {
     "data": {
      "text/plain": [
       "1145.95"
      ]
     },
     "execution_count": 55,
     "metadata": {},
     "output_type": "execute_result"
    }
   ],
   "source": [
    "def radians_to_degrees(n):\n",
    "    try:\n",
    "        \n",
    "        return round(n * (180/3.1415), 2)\n",
    "\n",
    "    except Exception as e:\n",
    "        logging.error(\"An error occurred in the %s module: %s - %s\",__name__, type(e).__name__, str(e))\n",
    "        print(\"Please insert the int\")\n",
    "        \n",
    "radians_to_degrees(20)\n",
    "    "
   ]
  },
  {
   "cell_type": "markdown",
   "id": "336baac6",
   "metadata": {},
   "source": [
    "# 3. In this challenge, establish if a given integer num is a Curzon number. If 1 plus 2 elevated to num is exactly divisible by 1 plus 2 multiplied by num, then num is a Curzon number."
   ]
  },
  {
   "cell_type": "code",
   "execution_count": 75,
   "id": "ecdb3858",
   "metadata": {},
   "outputs": [
    {
     "name": "stdout",
     "output_type": "stream",
     "text": [
      "Insert the int\n"
     ]
    }
   ],
   "source": [
    "def is_curzon(n):\n",
    "    \n",
    "    try:\n",
    "        \n",
    "        a = 2**n + 1\n",
    "        b = 2*n + 1\n",
    "        c = a%b\n",
    "        return c == 0\n",
    "\n",
    "    except Exception as e:\n",
    "        logging.error(\"This is the error in %s module: %s - %s user has inserted this: %s\", __name__, type(e).__name__, str(e), str(n))\n",
    "        print(\"Insert the int\")\n",
    "is_curzon(\"s\")"
   ]
  },
  {
   "cell_type": "markdown",
   "id": "9517f488",
   "metadata": {},
   "source": [
    "# 4.Given the side length x find the area of a hexagon."
   ]
  },
  {
   "cell_type": "code",
   "execution_count": 99,
   "id": "c63a4760",
   "metadata": {},
   "outputs": [
    {
     "data": {
      "text/plain": [
       "259.8"
      ]
     },
     "execution_count": 99,
     "metadata": {},
     "output_type": "execute_result"
    }
   ],
   "source": [
    "import math\n",
    "\n",
    "def area_of_hexagon(n):\n",
    "    \n",
    "    try:\n",
    "        \n",
    "        a = round(3 * math.sqrt(3) * (n*n)/2, 1)\n",
    "        return a\n",
    "\n",
    "    except Exception as e:\n",
    "        logging.error(\"This is the error in %s module: %s - %s user has inserted %s\", __name__, type(e).__name__, str(e), str(n))\n",
    "        print(\"Please insert the integer\")\n",
    "area_of_hexagon(10)"
   ]
  },
  {
   "cell_type": "markdown",
   "id": "23fd04fc",
   "metadata": {},
   "source": [
    "# 5. Create a function that returns a base-2 (binary) representation of a base-10 (decimal) string number. To convert is simple: ((2) means base-2 and (10) means base-10) 010101001(2) = 1 + 8 + 32 + 128."
   ]
  },
  {
   "cell_type": "code",
   "execution_count": 107,
   "id": "c442e344",
   "metadata": {},
   "outputs": [
    {
     "data": {
      "text/plain": [
       "'101'"
      ]
     },
     "execution_count": 107,
     "metadata": {},
     "output_type": "execute_result"
    }
   ],
   "source": [
    "def binary(n):\n",
    "    \n",
    "    try:\n",
    "        \n",
    "        a = bin(n)\n",
    "        binary = a[2:]\n",
    "        return binary\n",
    "    except Exception as e:\n",
    "        logging.error(\"The error is in the %s module: %s - %s user has inserted: %s\", __name__, type(e).__name__, str(e), str(n))\n",
    "        print(e)\n",
    "\n",
    "binary(5)\n"
   ]
  },
  {
   "cell_type": "code",
   "execution_count": null,
   "id": "e4b1a458",
   "metadata": {},
   "outputs": [],
   "source": []
  },
  {
   "cell_type": "code",
   "execution_count": null,
   "id": "ea11cda0",
   "metadata": {},
   "outputs": [],
   "source": []
  }
 ],
 "metadata": {
  "kernelspec": {
   "display_name": "Python 3 (ipykernel)",
   "language": "python",
   "name": "python3"
  },
  "language_info": {
   "codemirror_mode": {
    "name": "ipython",
    "version": 3
   },
   "file_extension": ".py",
   "mimetype": "text/x-python",
   "name": "python",
   "nbconvert_exporter": "python",
   "pygments_lexer": "ipython3",
   "version": "3.9.12"
  }
 },
 "nbformat": 4,
 "nbformat_minor": 5
}
