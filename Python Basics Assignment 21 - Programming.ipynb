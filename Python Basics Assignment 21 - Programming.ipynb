{
 "cells": [
  {
   "cell_type": "markdown",
   "id": "c41b71f8",
   "metadata": {},
   "source": [
    "# 1. Write a function that takes a list and a number as arguments. Add the number to the end of the list, then remove the first element of the list. The function should then return the updated list.\n"
   ]
  },
  {
   "cell_type": "code",
   "execution_count": 13,
   "id": "aa3b882f",
   "metadata": {},
   "outputs": [
    {
     "data": {
      "text/plain": [
       "[6, 3, 23, 17, 10]"
      ]
     },
     "execution_count": 13,
     "metadata": {},
     "output_type": "execute_result"
    }
   ],
   "source": [
    "def add_num_to_list(li, num):\n",
    "    returning_list = []\n",
    "    \n",
    "    try:\n",
    "        \n",
    "        for i in range(1, len(li)):\n",
    "            returning_list.append(li[i])\n",
    "        returning_list.append(num)\n",
    "        return returning_list\n",
    "\n",
    "    except Exception as e:\n",
    "        print(e)\n",
    "\n",
    "add_num_to_list([7, 6, 3, 23, 17], 10)"
   ]
  },
  {
   "cell_type": "markdown",
   "id": "0a104384",
   "metadata": {},
   "source": [
    "# 2 Create the function that takes a list of dictionaries and returns the sum of people's budgets.\n"
   ]
  },
  {
   "cell_type": "code",
   "execution_count": 20,
   "id": "c1af3391",
   "metadata": {},
   "outputs": [
    {
     "name": "stdout",
     "output_type": "stream",
     "text": [
      "65700\n"
     ]
    }
   ],
   "source": [
    "def get_budget(d1, d2, d3):\n",
    "    budget = d1[\"budget\"] + d2[\"budget\"] + d3[\"budget\"]\n",
    "    print(budget)\n",
    "    \n",
    "get_budget({ \"name\": \"John\", \"age\": 21, \"budget\": 23000 },\n",
    "  { \"name\": \"Steve\",  \"age\": 32, \"budget\": 40000 },\n",
    "  { \"name\": \"Martin\",  \"age\": 16, \"budget\": 2700 }\n",
    ")"
   ]
  },
  {
   "cell_type": "markdown",
   "id": "040eded5",
   "metadata": {},
   "source": [
    "# 3. Create a function that takes a string and returns a string with its letters in alphabetical order.\n"
   ]
  },
  {
   "cell_type": "code",
   "execution_count": 33,
   "id": "610de506",
   "metadata": {},
   "outputs": [
    {
     "data": {
      "text/plain": [
       "'ehllo'"
      ]
     },
     "execution_count": 33,
     "metadata": {},
     "output_type": "execute_result"
    }
   ],
   "source": [
    "def alphabet_soup(sent):\n",
    "    final_sent = str(\"\".join(sorted(map(str, sent))))\n",
    "    \n",
    "    return final_sent \n",
    "\n",
    "alphabet_soup(\"hello\")\n",
    "    "
   ]
  },
  {
   "cell_type": "markdown",
   "id": "86b60973",
   "metadata": {},
   "source": [
    "# 4. Create a function that accepts the principal p, the term in years t, the interest rate r, and the number of compounding periods per year n. The function returns the value at the end of term rounded to the nearest cent."
   ]
  },
  {
   "cell_type": "code",
   "execution_count": 54,
   "id": "33385a54",
   "metadata": {},
   "outputs": [
    {
     "data": {
      "text/plain": [
       "2007316.26"
      ]
     },
     "execution_count": 54,
     "metadata": {},
     "output_type": "execute_result"
    }
   ],
   "source": [
    "def compound_interest(p, y , i, n):\n",
    "    \n",
    "    principal = round(p * (1 + i/n)**(n*y), 2)\n",
    "    return principal\n",
    "\n",
    "compound_interest(100000, 20, 0.15, 365)"
   ]
  },
  {
   "cell_type": "markdown",
   "id": "537134e1",
   "metadata": {},
   "source": [
    "# 5. Write a function that takes a list of elements and returns only the integers.\n"
   ]
  },
  {
   "cell_type": "code",
   "execution_count": 62,
   "id": "b2d2adc2",
   "metadata": {},
   "outputs": [
    {
     "data": {
      "text/plain": [
       "[81, 123]"
      ]
     },
     "execution_count": 62,
     "metadata": {},
     "output_type": "execute_result"
    }
   ],
   "source": [
    "def return_only_integer(l):\n",
    "    int_list = []\n",
    "    for i in range(len(l)):\n",
    "        if type(l[i]) == int:\n",
    "            int_list.append(l[i])\n",
    "    return int_list\n",
    "            \n",
    "        \n",
    "return_only_integer([\"hello\", 81, \"basketball\", 123, \"fox\"])"
   ]
  },
  {
   "cell_type": "code",
   "execution_count": null,
   "id": "a1aa840a",
   "metadata": {},
   "outputs": [],
   "source": []
  }
 ],
 "metadata": {
  "kernelspec": {
   "display_name": "Python 3 (ipykernel)",
   "language": "python",
   "name": "python3"
  },
  "language_info": {
   "codemirror_mode": {
    "name": "ipython",
    "version": 3
   },
   "file_extension": ".py",
   "mimetype": "text/x-python",
   "name": "python",
   "nbconvert_exporter": "python",
   "pygments_lexer": "ipython3",
   "version": "3.9.12"
  }
 },
 "nbformat": 4,
 "nbformat_minor": 5
}
