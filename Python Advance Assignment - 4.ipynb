{
 "cells": [
  {
   "cell_type": "markdown",
   "id": "a14c2779",
   "metadata": {},
   "source": [
    "# 1. Which two operator overloading methods can you use in your classes to support iteration?"
   ]
  },
  {
   "cell_type": "raw",
   "id": "6b751bfe",
   "metadata": {},
   "source": [
    "The two operator overloading methods that can be used to support iteration in classes are the __iter__() and __next__() methods. The __iter__() method returns an iterator object, and the __next__() method returns the next value in the iteration."
   ]
  },
  {
   "cell_type": "markdown",
   "id": "ad7a9861",
   "metadata": {},
   "source": [
    "# 2. In what contexts do the two operator overloading methods manage printing?\n"
   ]
  },
  {
   "cell_type": "raw",
   "id": "54c06de1",
   "metadata": {},
   "source": [
    "The __str__() and __repr__() methods are used to define how an object should be represented when printed. The __str__() method should return a string that is a human-readable representation of the object, and is used when the built-in print() function is used to print the object. The __repr__() method should return a string that is a representation of the object that can be used to recreate the object, and is used when the object is printed in an interactive interpreter or when the built-in repr() function is used to print the object."
   ]
  },
  {
   "cell_type": "markdown",
   "id": "fab902f5",
   "metadata": {},
   "source": [
    "# 3. In a class, how do you intercept slice operations?\n"
   ]
  },
  {
   "cell_type": "raw",
   "id": "c5e8351d",
   "metadata": {},
   "source": [
    "In a class, you can intercept slice operations by defining the __getitem__() and __setitem__() methods.\n",
    "\n",
    "The __getitem__(self, key) method is called when an object is indexed with the [] operator, for example obj[key]. This method should return the item at the specified key.\n",
    "\n",
    "The __setitem__(self, key, value) method is called when an item is assigned to an object using the [] operator, for example obj[key] = value. This method should set the item at the specified key to the specified value."
   ]
  },
  {
   "cell_type": "markdown",
   "id": "0e2d6e11",
   "metadata": {},
   "source": [
    "# 4. In a class, how do you capture in-place addition?"
   ]
  },
  {
   "cell_type": "raw",
   "id": "f319a2e3",
   "metadata": {},
   "source": [
    "In a class, you can capture in-place addition by defining the __iadd__() method. This method is called when the += operator is used on an object. It should return the object after the in-place addition has been performed."
   ]
  },
  {
   "cell_type": "markdown",
   "id": "a548a317",
   "metadata": {},
   "source": [
    "# 5. When is it appropriate to use operator overloading?"
   ]
  },
  {
   "cell_type": "raw",
   "id": "0c0b263c",
   "metadata": {},
   "source": []
  },
  {
   "cell_type": "code",
   "execution_count": 16,
   "id": "9934825c",
   "metadata": {},
   "outputs": [
    {
     "name": "stdout",
     "output_type": "stream",
     "text": [
      "[(1, 4, 7), (2, 5, 8), (3, 6, 9)]\n"
     ]
    }
   ],
   "source": [
    "list1 = [1, 2, 3]\n",
    "list2 = [4, 5, 6]\n",
    "list3 = [7, 8, 9]\n",
    "zipped = zip(list1, list2, list3)\n",
    "print(list(zipped))\n"
   ]
  },
  {
   "cell_type": "code",
   "execution_count": null,
   "id": "a07ee04a",
   "metadata": {},
   "outputs": [],
   "source": []
  }
 ],
 "metadata": {
  "kernelspec": {
   "display_name": "Python 3 (ipykernel)",
   "language": "python",
   "name": "python3"
  },
  "language_info": {
   "codemirror_mode": {
    "name": "ipython",
    "version": 3
   },
   "file_extension": ".py",
   "mimetype": "text/x-python",
   "name": "python",
   "nbconvert_exporter": "python",
   "pygments_lexer": "ipython3",
   "version": "3.9.12"
  }
 },
 "nbformat": 4,
 "nbformat_minor": 5
}
