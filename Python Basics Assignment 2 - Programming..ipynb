{
 "cells": [
  {
   "cell_type": "markdown",
   "id": "4fd35161",
   "metadata": {},
   "source": [
    "# 1. Write a Python program to convert kilometers to miles?\n"
   ]
  },
  {
   "cell_type": "code",
   "execution_count": 16,
   "id": "856cf695",
   "metadata": {},
   "outputs": [
    {
     "name": "stdout",
     "output_type": "stream",
     "text": [
      "Insert the KM you have driven 1345\n",
      "You have driven  835  Miles\n"
     ]
    }
   ],
   "source": [
    "# Firstly we will ask for Kilometers input\n",
    "\n",
    "km = int(input(\"Insert the KM you have driven \"))\n",
    "\n",
    "# Now we are converting the KM value to Miles by dividing it by 1.609\n",
    "\n",
    "miles = km/1.609\n",
    "\n",
    "print(\"You have driven \", int(miles), \" Miles\")"
   ]
  },
  {
   "cell_type": "markdown",
   "id": "9f331edf",
   "metadata": {},
   "source": [
    "# 2. Write a Python program to convert Celsius to Fahrenheit?\n"
   ]
  },
  {
   "cell_type": "code",
   "execution_count": 4,
   "id": "649491bd",
   "metadata": {},
   "outputs": [
    {
     "name": "stdout",
     "output_type": "stream",
     "text": [
      "Insert the Celcius 10\n",
      "The 10 degree celsius is 50 degree Fahrenheit\n"
     ]
    }
   ],
   "source": [
    "# Firstly we will ask for celcius input\n",
    "\n",
    "cel = int(input(\"Insert the Celcius \"))\n",
    "\n",
    "# Now we are converting the celsius to fahrenheit\n",
    "\n",
    "fahrenheit = cel*1.8 +32\n",
    "\n",
    "print(\"The\", cel, \"degree celsius is\",  int(fahrenheit), \"degree Fahrenheit\")"
   ]
  },
  {
   "cell_type": "markdown",
   "id": "07baea2d",
   "metadata": {},
   "source": [
    "# 3. Write a Python program to display calendar?\n"
   ]
  },
  {
   "cell_type": "code",
   "execution_count": 9,
   "id": "32e11181",
   "metadata": {},
   "outputs": [
    {
     "name": "stdout",
     "output_type": "stream",
     "text": [
      "                                  2022\n",
      "\n",
      "      January                   February                   March\n",
      "Mo Tu We Th Fr Sa Su      Mo Tu We Th Fr Sa Su      Mo Tu We Th Fr Sa Su\n",
      "                1  2          1  2  3  4  5  6          1  2  3  4  5  6\n",
      " 3  4  5  6  7  8  9       7  8  9 10 11 12 13       7  8  9 10 11 12 13\n",
      "10 11 12 13 14 15 16      14 15 16 17 18 19 20      14 15 16 17 18 19 20\n",
      "17 18 19 20 21 22 23      21 22 23 24 25 26 27      21 22 23 24 25 26 27\n",
      "24 25 26 27 28 29 30      28                        28 29 30 31\n",
      "31\n",
      "\n",
      "       April                      May                       June\n",
      "Mo Tu We Th Fr Sa Su      Mo Tu We Th Fr Sa Su      Mo Tu We Th Fr Sa Su\n",
      "             1  2  3                         1             1  2  3  4  5\n",
      " 4  5  6  7  8  9 10       2  3  4  5  6  7  8       6  7  8  9 10 11 12\n",
      "11 12 13 14 15 16 17       9 10 11 12 13 14 15      13 14 15 16 17 18 19\n",
      "18 19 20 21 22 23 24      16 17 18 19 20 21 22      20 21 22 23 24 25 26\n",
      "25 26 27 28 29 30         23 24 25 26 27 28 29      27 28 29 30\n",
      "                          30 31\n",
      "\n",
      "        July                     August                  September\n",
      "Mo Tu We Th Fr Sa Su      Mo Tu We Th Fr Sa Su      Mo Tu We Th Fr Sa Su\n",
      "             1  2  3       1  2  3  4  5  6  7                1  2  3  4\n",
      " 4  5  6  7  8  9 10       8  9 10 11 12 13 14       5  6  7  8  9 10 11\n",
      "11 12 13 14 15 16 17      15 16 17 18 19 20 21      12 13 14 15 16 17 18\n",
      "18 19 20 21 22 23 24      22 23 24 25 26 27 28      19 20 21 22 23 24 25\n",
      "25 26 27 28 29 30 31      29 30 31                  26 27 28 29 30\n",
      "\n",
      "      October                   November                  December\n",
      "Mo Tu We Th Fr Sa Su      Mo Tu We Th Fr Sa Su      Mo Tu We Th Fr Sa Su\n",
      "                1  2          1  2  3  4  5  6                1  2  3  4\n",
      " 3  4  5  6  7  8  9       7  8  9 10 11 12 13       5  6  7  8  9 10 11\n",
      "10 11 12 13 14 15 16      14 15 16 17 18 19 20      12 13 14 15 16 17 18\n",
      "17 18 19 20 21 22 23      21 22 23 24 25 26 27      19 20 21 22 23 24 25\n",
      "24 25 26 27 28 29 30      28 29 30                  26 27 28 29 30 31\n",
      "31\n",
      "\n"
     ]
    }
   ],
   "source": [
    "#Here we are importing calendar to perform the code\n",
    "\n",
    "import calendar\n",
    "\n",
    "year = 2022\n",
    "\n",
    "print(calendar.calendar(year))"
   ]
  },
  {
   "cell_type": "markdown",
   "id": "24cb1080",
   "metadata": {},
   "source": [
    "# 4. Write a Python program to solve quadratic equation?\n"
   ]
  },
  {
   "cell_type": "markdown",
   "id": "baed466e",
   "metadata": {},
   "source": [
    "# 5. Write a Python program to swap two variables without temp variable?\n"
   ]
  },
  {
   "cell_type": "code",
   "execution_count": 13,
   "id": "af60a8d4",
   "metadata": {},
   "outputs": [
    {
     "name": "stdout",
     "output_type": "stream",
     "text": [
      "Before swapping name1 was Somesh and name2 was  Sushil\n",
      "After swapping name1 is Sushil and name2 is  Somesh\n"
     ]
    }
   ],
   "source": [
    "#Before Swapping\n",
    "\n",
    "name1 = \"Somesh\"\n",
    "name2 = \"Sushil\"\n",
    "\n",
    "print(\"Before swapping name1 was\", name1, \"and name2 was \", name2)\n",
    "\n",
    "#After swapping \n",
    "\n",
    "name1, name2 = name2, name1\n",
    "\n",
    "print(\"After swapping name1 is\", name1, \"and name2 is \", name2)"
   ]
  },
  {
   "cell_type": "code",
   "execution_count": null,
   "id": "2bb5e6b5",
   "metadata": {},
   "outputs": [],
   "source": []
  },
  {
   "cell_type": "code",
   "execution_count": null,
   "id": "e55333cb",
   "metadata": {},
   "outputs": [],
   "source": []
  }
 ],
 "metadata": {
  "kernelspec": {
   "display_name": "Python 3 (ipykernel)",
   "language": "python",
   "name": "python3"
  },
  "language_info": {
   "codemirror_mode": {
    "name": "ipython",
    "version": 3
   },
   "file_extension": ".py",
   "mimetype": "text/x-python",
   "name": "python",
   "nbconvert_exporter": "python",
   "pygments_lexer": "ipython3",
   "version": "3.9.12"
  }
 },
 "nbformat": 4,
 "nbformat_minor": 5
}
