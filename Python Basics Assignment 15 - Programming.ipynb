{
 "cells": [
  {
   "cell_type": "code",
   "execution_count": 63,
   "id": "99c35f31",
   "metadata": {},
   "outputs": [],
   "source": [
    "import logging\n",
    "logging.basicConfig(filename = \"jplogs15.log\", level = logging.INFO, format = '%(asctime)s - %(name)s -  %(levelname)s - %(message)s')"
   ]
  },
  {
   "cell_type": "markdown",
   "id": "99fe87ab",
   "metadata": {},
   "source": [
    "# 1. Please write a program using generator to print the numbers which can be divisible by 5 and 7 between 0 and n in comma separated form while n is input by console.\n"
   ]
  },
  {
   "cell_type": "code",
   "execution_count": 66,
   "id": "3a209134",
   "metadata": {},
   "outputs": [
    {
     "name": "stdout",
     "output_type": "stream",
     "text": [
      "0, 35, 70\n"
     ]
    }
   ],
   "source": [
    "def divisible_by_5_and_7(num):\n",
    "    try:\n",
    "        num = int(num)\n",
    "\n",
    "        for i in range(num+1):\n",
    "            if i%5 == 0 and i%7 == 0:\n",
    "                yield i \n",
    "    \n",
    "    except ValueError:\n",
    "        logging.error(\"This is the errr\")\n",
    "        print(\"Please insert the int\")\n",
    "\n",
    "result = [str(i) for i in divisible_by_5_and_7(100)]\n",
    "print(\", \".join(result))\n"
   ]
  },
  {
   "cell_type": "markdown",
   "id": "3e4bf822",
   "metadata": {},
   "source": [
    "# 2. Please write a program using generator to print the even numbers between 0 and n in comma separated form while n is input by console.\n"
   ]
  },
  {
   "cell_type": "code",
   "execution_count": 73,
   "id": "a1fd4c20",
   "metadata": {},
   "outputs": [
    {
     "name": "stdout",
     "output_type": "stream",
     "text": [
      "Insert the number: 10\n",
      "0, 2, 4, 6, 8, 10\n"
     ]
    }
   ],
   "source": [
    "try:\n",
    "    n = int(input(\"Insert the number: \"))\n",
    "except Exception as e:\n",
    "    print(\"Insert int\")\n",
    "def even_nums(n):\n",
    "    \n",
    "    try: \n",
    "        \n",
    "        even_nums = (str(i) for i in range(0, n+1, 2))\n",
    "        return even_nums\n",
    "    except Exception as e:\n",
    "        logging.error(e)\n",
    "        print(\"Insert Int\")\n",
    "        \n",
    "        \n",
    "    results = [str(i) for i in even_nums(n)]\n",
    "print(\", \".join(results))\n",
    "\n",
    "\n",
    "   "
   ]
  },
  {
   "cell_type": "markdown",
   "id": "93208e27",
   "metadata": {},
   "source": [
    "# 3:The Fibonacci Sequence is computed based on the following formula:\n"
   ]
  },
  {
   "cell_type": "code",
   "execution_count": 97,
   "id": "1e3eef09",
   "metadata": {},
   "outputs": [
    {
     "name": "stdout",
     "output_type": "stream",
     "text": [
      "insert num7\n",
      "0, 1, 1, 2, 3, 5, 8\n"
     ]
    }
   ],
   "source": [
    "try:\n",
    "    \n",
    "    nn = int(input(\"insert num\"))\n",
    "except ValueError as e:\n",
    "    logging.error(e)\n",
    "def fib_seq(nn):\n",
    "    a,b = 0,1\n",
    "    counter = 0\n",
    "    while counter < nn:\n",
    "        yield a \n",
    "        a,b = b, a+b\n",
    "        counter += 1\n",
    "    \n",
    "resultss = [str(num) for num in fib_seq(nn) ]\n",
    "print(\", \".join(resultss))\n"
   ]
  },
  {
   "cell_type": "markdown",
   "id": "79a2bb34",
   "metadata": {},
   "source": [
    "# 4. Assuming that we have some email addresses in the \"username@companyname.com\" format, please write program to print the user name of a given email address. Both user names and company names are composed of letters only."
   ]
  },
  {
   "cell_type": "code",
   "execution_count": 104,
   "id": "88030a4c",
   "metadata": {},
   "outputs": [
    {
     "data": {
      "text/plain": [
       "'username'"
      ]
     },
     "execution_count": 104,
     "metadata": {},
     "output_type": "execute_result"
    }
   ],
   "source": [
    "def mail(u):\n",
    "    final = \"\"\n",
    "    for i in u:\n",
    "        if i == \"@\":\n",
    "            break\n",
    "        final+=i\n",
    "    return final\n",
    "mail(\"username@companyname.com\")\n"
   ]
  },
  {
   "cell_type": "markdown",
   "id": "c64be7e0",
   "metadata": {},
   "source": [
    "# 5. Define a class named Shape and its subclass Square. The Square class has an init function which takes a length as argument. Both classes have a area function which can print the area of the shape where Shape's area is 0 by default.\n"
   ]
  },
  {
   "cell_type": "code",
   "execution_count": 108,
   "id": "90ac0c8e",
   "metadata": {},
   "outputs": [
    {
     "name": "stdout",
     "output_type": "stream",
     "text": [
      "The area of the square is: 25\n"
     ]
    }
   ],
   "source": [
    "class Square:\n",
    "    \n",
    "    def __init__(self, length):\n",
    "           self.length = length\n",
    "        \n",
    "    def area(self):\n",
    "        return self.length * self.length\n",
    "\n",
    "square = Square(5)\n",
    "print(\"The area of the square is:\", square.area())\n"
   ]
  },
  {
   "cell_type": "code",
   "execution_count": null,
   "id": "27566c0e",
   "metadata": {},
   "outputs": [],
   "source": []
  }
 ],
 "metadata": {
  "kernelspec": {
   "display_name": "Python 3 (ipykernel)",
   "language": "python",
   "name": "python3"
  },
  "language_info": {
   "codemirror_mode": {
    "name": "ipython",
    "version": 3
   },
   "file_extension": ".py",
   "mimetype": "text/x-python",
   "name": "python",
   "nbconvert_exporter": "python",
   "pygments_lexer": "ipython3",
   "version": "3.9.12"
  }
 },
 "nbformat": 4,
 "nbformat_minor": 5
}
