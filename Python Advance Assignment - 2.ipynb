{
 "cells": [
  {
   "cell_type": "markdown",
   "id": "d2c9c68c",
   "metadata": {},
   "source": [
    "# 1. What is the relationship between classes and modules?"
   ]
  },
  {
   "cell_type": "markdown",
   "id": "a36a2d4f",
   "metadata": {},
   "source": [
    "A class is a blueprint for creating objects (a particular data structure), while a module is a file containing Python definitions and statements. Classes and modules are related in the sense that a module can contain one or more classes, and a class can be defined within a module."
   ]
  },
  {
   "cell_type": "markdown",
   "id": "1d21df0c",
   "metadata": {},
   "source": [
    "# 2. How do you make instances and classes?"
   ]
  },
  {
   "cell_type": "markdown",
   "id": "218e5357",
   "metadata": {},
   "source": [
    "To create an instance of a class, you use the class name followed by parentheses to call the class's constructor (the __init__ method). The constructor is a special method that is automatically called when an instance of the class is created. It is used to initialize the attributes of the object."
   ]
  },
  {
   "cell_type": "code",
   "execution_count": 16,
   "id": "b9204ce1",
   "metadata": {},
   "outputs": [],
   "source": [
    "class Car:\n",
    "    def __init__(self, make, model, year):\n",
    "        self.make = make\n",
    "        self.model = model\n",
    "        self.year = year\n",
    "    def drive(self):\n",
    "        print(\"Driving\")\n"
   ]
  },
  {
   "cell_type": "markdown",
   "id": "bb77f9f3",
   "metadata": {},
   "source": [
    "To create an instance of the Car class, I would use the following code:"
   ]
  },
  {
   "cell_type": "code",
   "execution_count": 17,
   "id": "830136e9",
   "metadata": {},
   "outputs": [],
   "source": [
    "my_car = Car(\"Toyota\", \"Prius\", 2018)\n"
   ]
  },
  {
   "cell_type": "markdown",
   "id": "8c8dd572",
   "metadata": {},
   "source": [
    "# 3. Where and how should be class attributes created?"
   ]
  },
  {
   "cell_type": "markdown",
   "id": "7a2c8445",
   "metadata": {},
   "source": [
    "Class attributes are attributes that are shared by all instances of a class. They should be defined at the top level of the class definition, outside of any method."
   ]
  },
  {
   "cell_type": "markdown",
   "id": "a78f6f86",
   "metadata": {},
   "source": [
    "# 4. Where and how are instance attributes created?"
   ]
  },
  {
   "cell_type": "markdown",
   "id": "bef66e22",
   "metadata": {},
   "source": [
    "Instance attributes are attributes that are specific to a particular instance of a class. They should be defined within the class's methods, typically the __init__ method, which is responsible for initializing the attributes of a new instance."
   ]
  },
  {
   "cell_type": "markdown",
   "id": "5b6aafed",
   "metadata": {},
   "source": [
    "# 5. What does the term \"self\" in a Python class mean?"
   ]
  },
  {
   "cell_type": "markdown",
   "id": "5f045abf",
   "metadata": {},
   "source": [
    "In a Python class, the term \"self\" refers to the instance of the class on which a method is being called. It is a reference to the current instance of the class and is used to access the attributes and methods of the class."
   ]
  },
  {
   "cell_type": "markdown",
   "id": "25e1fd55",
   "metadata": {},
   "source": [
    "# 6. How does a Python class handle operator overloading?\n"
   ]
  },
  {
   "cell_type": "markdown",
   "id": "57cfac65",
   "metadata": {},
   "source": [
    "# 7. When do you consider allowing operator overloading of your classes?"
   ]
  },
  {
   "cell_type": "markdown",
   "id": "1dc1aecc",
   "metadata": {},
   "source": [
    "Operator overloading should be considered when it would make the code more expressive and easier to understand. It can be used to provide a more natural and intuitive interface for interacting with instances of a class."
   ]
  },
  {
   "cell_type": "markdown",
   "id": "5ac40901",
   "metadata": {},
   "source": [
    "# 8. What is the most popular form of operator overloading?"
   ]
  },
  {
   "cell_type": "markdown",
   "id": "b51d25bf",
   "metadata": {},
   "source": [
    "The most popular form of operator overloading in Python is the use of special methods, also known as \"dunder methods\" or \"magic methods\". These special methods are defined by double underscores (e.g. __add__) and are called by Python when specific operations are performed on instances of a class.\n",
    "\n"
   ]
  },
  {
   "cell_type": "markdown",
   "id": "fb2924cb",
   "metadata": {},
   "source": [
    "# 9. What are the two most important concepts to grasp in order to comprehend Python OOP code?"
   ]
  },
  {
   "cell_type": "code",
   "execution_count": null,
   "id": "5ae6e398",
   "metadata": {},
   "outputs": [],
   "source": []
  }
 ],
 "metadata": {
  "kernelspec": {
   "display_name": "Python 3 (ipykernel)",
   "language": "python",
   "name": "python3"
  },
  "language_info": {
   "codemirror_mode": {
    "name": "ipython",
    "version": 3
   },
   "file_extension": ".py",
   "mimetype": "text/x-python",
   "name": "python",
   "nbconvert_exporter": "python",
   "pygments_lexer": "ipython3",
   "version": "3.9.12"
  }
 },
 "nbformat": 4,
 "nbformat_minor": 5
}
