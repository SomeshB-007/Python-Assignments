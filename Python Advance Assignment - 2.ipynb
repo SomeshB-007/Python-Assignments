{
 "cells": [
  {
   "cell_type": "markdown",
   "id": "a46afcd5",
   "metadata": {},
   "source": [
    "# 1. What is the relationship between classes and modules?"
   ]
  },
  {
   "cell_type": "markdown",
   "id": "b7a68ce9",
   "metadata": {},
   "source": [
    "A class is a blueprint for creating objects (a particular data structure), while a module is a file containing Python definitions and statements. Classes and modules are related in the sense that a module can contain one or more classes, and a class can be defined within a module."
   ]
  },
  {
   "cell_type": "markdown",
   "id": "4968e175",
   "metadata": {},
   "source": [
    "# 2. How do you make instances and classes?"
   ]
  },
  {
   "cell_type": "markdown",
   "id": "ad070681",
   "metadata": {},
   "source": [
    "To create an instance of a class, you use the class name followed by parentheses to call the class's constructor (the __init__ method). The constructor is a special method that is automatically called when an instance of the class is created. It is used to initialize the attributes of the object."
   ]
  },
  {
   "cell_type": "code",
   "execution_count": 23,
   "id": "7a55ba06",
   "metadata": {},
   "outputs": [],
   "source": [
    "class Car:\n",
    "    def __init__(self, make, model, year):\n",
    "        self.make = make\n",
    "        self.model = model\n",
    "        self.year = year\n",
    "    def drive(self):\n",
    "        print(\"Driving\")\n"
   ]
  },
  {
   "cell_type": "markdown",
   "id": "60f830d3",
   "metadata": {},
   "source": [
    "To create an instance of the Car class, I would use the following code:"
   ]
  },
  {
   "cell_type": "code",
   "execution_count": 24,
   "id": "676fb9e4",
   "metadata": {},
   "outputs": [],
   "source": [
    "my_car = Car(\"Toyota\", \"Prius\", 2018)\n"
   ]
  },
  {
   "cell_type": "markdown",
   "id": "696d2b6d",
   "metadata": {},
   "source": [
    "# 3. Where and how should be class attributes created?"
   ]
  },
  {
   "cell_type": "markdown",
   "id": "75c4c9b0",
   "metadata": {},
   "source": [
    "Class attributes are attributes that are shared by all instances of a class. They should be defined at the top level of the class definition, outside of any method."
   ]
  },
  {
   "cell_type": "markdown",
   "id": "ace8d5f0",
   "metadata": {},
   "source": [
    "# 4. Where and how are instance attributes created?"
   ]
  },
  {
   "cell_type": "markdown",
   "id": "f657b923",
   "metadata": {},
   "source": [
    "Instance attributes are attributes that are specific to a particular instance of a class. They should be defined within the class's methods, typically the __init__ method, which is responsible for initializing the attributes of a new instance."
   ]
  },
  {
   "cell_type": "markdown",
   "id": "0c042abc",
   "metadata": {},
   "source": [
    "# 5. What does the term \"self\" in a Python class mean?"
   ]
  },
  {
   "cell_type": "markdown",
   "id": "2789ee8a",
   "metadata": {},
   "source": [
    "In a Python class, the term \"self\" refers to the instance of the class on which a method is being called. It is a reference to the current instance of the class and is used to access the attributes and methods of the class."
   ]
  },
  {
   "cell_type": "markdown",
   "id": "1fa8ffd3",
   "metadata": {},
   "source": [
    "# 6. How does a Python class handle operator overloading?\n"
   ]
  },
  {
   "cell_type": "markdown",
   "id": "ec3fcd19",
   "metadata": {},
   "source": [
    "# 7. When do you consider allowing operator overloading of your classes?"
   ]
  },
  {
   "cell_type": "markdown",
   "id": "709bbb7b",
   "metadata": {},
   "source": [
    "Operator overloading should be considered when it would make the code more expressive and easier to understand. It can be used to provide a more natural and intuitive interface for interacting with instances of a class."
   ]
  },
  {
   "cell_type": "markdown",
   "id": "284f40ab",
   "metadata": {},
   "source": [
    "# 8. What is the most popular form of operator overloading?"
   ]
  },
  {
   "cell_type": "markdown",
   "id": "2f79aaba",
   "metadata": {},
   "source": [
    "The most popular form of operator overloading in Python is the use of special methods, also known as \"dunder methods\" or \"magic methods\". These special methods are defined by double underscores (e.g. __add__) and are called by Python when specific operations are performed on instances of a class.\n",
    "\n"
   ]
  },
  {
   "cell_type": "markdown",
   "id": "2d06ec9e",
   "metadata": {},
   "source": [
    "# 9. What are the two most important concepts to grasp in order to comprehend Python OOP code?"
   ]
  },
  {
   "cell_type": "markdown",
   "id": "35e6b7af",
   "metadata": {},
   "source": [
    "The two most important concepts to grasp in order to comprehend Python OOP code are classes and objects.\n",
    "\n",
    "Classes: A class is a blueprint for creating objects (a particular data structure), providing initial values for state (member variables or attributes), and implementations of behavior (member functions or methods). Classes are defined using the class keyword, and typically contain a constructor method (__init__), as well as other methods that define the class's behavior.\n",
    "\n",
    "Objects: An object is an instance of a class, created at runtime. Each object has its own state (member variables or attributes) and behavior (member functions or methods). To create an object, you must call the class as if it were a function, passing any required arguments to the class's constructor method (__init__)."
   ]
  },
  {
   "cell_type": "code",
   "execution_count": null,
   "id": "40f33d68",
   "metadata": {},
   "outputs": [],
   "source": []
  }
 ],
 "metadata": {
  "kernelspec": {
   "display_name": "Python 3 (ipykernel)",
   "language": "python",
   "name": "python3"
  },
  "language_info": {
   "codemirror_mode": {
    "name": "ipython",
    "version": 3
   },
   "file_extension": ".py",
   "mimetype": "text/x-python",
   "name": "python",
   "nbconvert_exporter": "python",
   "pygments_lexer": "ipython3",
   "version": "3.9.12"
  }
 },
 "nbformat": 4,
 "nbformat_minor": 5
}
