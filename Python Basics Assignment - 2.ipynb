{
 "cells": [
  {
   "cell_type": "markdown",
   "id": "e991c2cb",
   "metadata": {},
   "source": [
    "# 1.What are the two values of the Boolean data type? How do you write them?\n"
   ]
  },
  {
   "cell_type": "markdown",
   "id": "6b74fceb",
   "metadata": {},
   "source": [
    "There are two values of the boolean data type namely True and False. We can also write them 1 and 0 as a representative of True and False respectively. "
   ]
  },
  {
   "cell_type": "markdown",
   "id": "21474bc3",
   "metadata": {},
   "source": [
    "# 2. What are the three different types of Boolean operators?\n"
   ]
  },
  {
   "cell_type": "markdown",
   "id": "805b9d2e",
   "metadata": {},
   "source": [
    "Three different types of boolean operators are OR, AND , and NOT."
   ]
  },
  {
   "cell_type": "markdown",
   "id": "ef463d23",
   "metadata": {},
   "source": [
    "# 3. Make a list of each Boolean operator's truth tables (i.e. every possible combination of Boolean values for the operator and what it evaluate ).\n"
   ]
  },
  {
   "cell_type": "markdown",
   "id": "e5f8f83d",
   "metadata": {},
   "source": [
    "True and True is True.\n",
    "\n",
    "True and False is False.\n",
    "\n",
    "False and True is False.\n",
    "\n",
    "False and False is False.\n",
    "\n",
    "not True is False.\n",
    "\n",
    "not False is True.\n",
    "\n",
    "True or True is True.\n",
    "\n",
    "True or False is True.\n",
    "\n",
    "False or True is True.\n",
    "\n",
    "False or False is False.\n",
    "\n"
   ]
  },
  {
   "cell_type": "markdown",
   "id": "2c25f46d",
   "metadata": {},
   "source": [
    "# 4. What are the values of the following expressions?\n"
   ]
  },
  {
   "cell_type": "code",
   "execution_count": null,
   "id": "29b9c786",
   "metadata": {},
   "outputs": [],
   "source": [
    "(5 > 4) and (3 == 5)\n",
    "not (5 > 4)\n",
    "(5 > 4) or (3 == 5)\n",
    "not ((5 > 4) or (3 == 5))\n",
    "(True and True) and (True == False)\n",
    "(not False) or (not True)\n"
   ]
  },
  {
   "cell_type": "markdown",
   "id": "a404de5a",
   "metadata": {},
   "source": [
    "False,\n",
    "False,\n",
    "True,\n",
    "False,\n",
    "False,\n",
    "True"
   ]
  },
  {
   "cell_type": "markdown",
   "id": "6359e15e",
   "metadata": {},
   "source": [
    "# 5. What are the six comparison operators?\n"
   ]
  },
  {
   "cell_type": "markdown",
   "id": "2d900915",
   "metadata": {},
   "source": [
    "<, >,  ==, !=, <=, and >="
   ]
  },
  {
   "cell_type": "markdown",
   "id": "2252e2f2",
   "metadata": {},
   "source": [
    "# 6. How do you tell the difference between the equal to and assignment operators?Describe a condition and when you would use one."
   ]
  },
  {
   "cell_type": "code",
   "execution_count": 6,
   "id": "666ea971",
   "metadata": {},
   "outputs": [
    {
     "name": "stdout",
     "output_type": "stream",
     "text": [
      "1\n",
      "False\n"
     ]
    }
   ],
   "source": [
    "# If we want to assign any value to the variable we will use =/\n",
    "\n",
    "c = 1\n",
    "print(c)\n",
    "# if want to use equal operator then we can use the below condition \n",
    "\n",
    "if (10==5):\n",
    "    print(\"True\")\n",
    "else:\n",
    "    print(\"False\")"
   ]
  },
  {
   "cell_type": "markdown",
   "id": "f8bd2ca8",
   "metadata": {},
   "source": [
    "# Q7. Identify the three blocks in this code:\n",
    "\n"
   ]
  },
  {
   "cell_type": "code",
   "execution_count": null,
   "id": "ff5ee2be",
   "metadata": {},
   "outputs": [],
   "source": [
    "spam = 0\n",
    "\n",
    "# Block 1 Start\n",
    "if spam == 10:\n",
    "    print('eggs') \n",
    "# Block 1 End\n",
    "\n",
    "# Block 2 Start\n",
    "if spam > 5:\n",
    "    print('bacon') \n",
    "    \n",
    "# Block 2 End\n",
    "# Block 3 Start\n",
    "\n",
    "else:\n",
    "    print('ham') \n",
    "\n",
    "    # Block 3 Start\n",
    "    print('spam')\n",
    "    print('spam')"
   ]
  },
  {
   "cell_type": "markdown",
   "id": "2aa9b8d3",
   "metadata": {},
   "source": [
    "# 8. Write code that prints Hello if 1 is stored in spam, prints Howdy if 2 is stored in spam, and prints Greetings! if anything else is stored in spam.\n"
   ]
  },
  {
   "cell_type": "code",
   "execution_count": 7,
   "id": "477e8319",
   "metadata": {},
   "outputs": [
    {
     "name": "stdout",
     "output_type": "stream",
     "text": [
      "Hello\n"
     ]
    }
   ],
   "source": [
    "spam = 1\n",
    "\n",
    "if spam == 1:\n",
    "    print(\"Hello\")\n",
    "elif spam == 2:\n",
    "    print(\"Howdy\")\n",
    "else:\n",
    "    print(\"Greetings!\")"
   ]
  },
  {
   "cell_type": "markdown",
   "id": "612b65d7",
   "metadata": {},
   "source": [
    "# 9.If your programme is stuck in an endless loop, what keys you’ll press?\n",
    "\n"
   ]
  },
  {
   "cell_type": "markdown",
   "id": "3b555b30",
   "metadata": {},
   "source": [
    "I will press ctrl + c (in Windows) or command + c (in MacOS)"
   ]
  },
  {
   "cell_type": "markdown",
   "id": "7008b6c6",
   "metadata": {},
   "source": [
    "# 10. How can you tell the difference between break and continue?\n"
   ]
  },
  {
   "cell_type": "markdown",
   "id": "17447af0",
   "metadata": {},
   "source": [
    "Break will stop the program whenever the condition is matched, Continue will not stop the program \n",
    "\n",
    "### Below is an example:"
   ]
  },
  {
   "cell_type": "code",
   "execution_count": 22,
   "id": "cc555c24",
   "metadata": {},
   "outputs": [
    {
     "name": "stdout",
     "output_type": "stream",
     "text": [
      "Code for continue starts here\n",
      "0\n",
      "1\n",
      "2\n",
      "3\n",
      "4\n",
      "5\n",
      "6\n",
      "7\n",
      "8\n",
      "9\n",
      "10\n",
      "11\n",
      "12\n",
      "13\n",
      "14\n",
      "16\n",
      "17\n",
      "18\n",
      "19\n",
      "20\n",
      "21\n",
      "22\n",
      "23\n",
      "Code for break starts\n",
      "0\n",
      "1\n",
      "2\n",
      "3\n",
      "4\n",
      "5\n",
      "6\n",
      "7\n",
      "8\n",
      "9\n",
      "10\n",
      "11\n",
      "12\n",
      "13\n",
      "14\n"
     ]
    }
   ],
   "source": [
    "# Continue\n",
    "print(\"Code for continue starts here\")\n",
    "\n",
    "for i in range(24):\n",
    "    if (i==15):\n",
    "            continue\n",
    "    print(i)\n",
    "    \n",
    "print(\"Code for break starts\")\n",
    "\n",
    "for i  in range(24):\n",
    "    if (i==15):\n",
    "        break # The code will stop working here whenever the i = 15\n",
    "    print(i)"
   ]
  },
  {
   "cell_type": "markdown",
   "id": "bcbb1511",
   "metadata": {},
   "source": [
    "# 11. In a for loop, what is the difference between range(10), range(0, 10), and range(0, 10, 1)?\n"
   ]
  },
  {
   "cell_type": "code",
   "execution_count": null,
   "id": "d07fe98f",
   "metadata": {},
   "outputs": [],
   "source": [
    "range(10) # Here the iteration will stop after 10,\n",
    "range(0,10) # Here the iteration will start from 0 and will stop at 10\n",
    "range(0, 10, 1) # Here the iteration will start from 0 and will stop at 10 but it will jump 1 number everytime from start i.e 0"
   ]
  },
  {
   "cell_type": "markdown",
   "id": "6332899f",
   "metadata": {},
   "source": [
    "#### Below is an example with other numbers:\n"
   ]
  },
  {
   "cell_type": "code",
   "execution_count": 27,
   "id": "10e22f5f",
   "metadata": {},
   "outputs": [
    {
     "name": "stdout",
     "output_type": "stream",
     "text": [
      "Code for range(10) starts here\n",
      "0\n",
      "1\n",
      "2\n",
      "3\n",
      "4\n",
      "5\n",
      "6\n",
      "7\n",
      "8\n",
      "9\n",
      "Code for range(0,20) starts here\n",
      "0\n",
      "1\n",
      "2\n",
      "3\n",
      "4\n",
      "5\n",
      "6\n",
      "7\n",
      "8\n",
      "9\n",
      "10\n",
      "11\n",
      "12\n",
      "13\n",
      "14\n",
      "15\n",
      "16\n",
      "17\n",
      "18\n",
      "19\n",
      "Code for range(0,20, 2) starts here\n",
      "0\n",
      "2\n",
      "4\n",
      "6\n",
      "8\n",
      "10\n",
      "12\n",
      "14\n",
      "16\n",
      "18\n"
     ]
    }
   ],
   "source": [
    "# range(10)\n",
    "\n",
    "print(\"Code for range(10) starts here\")\n",
    "for i in range(10):\n",
    "    print(i)\n",
    "    \n",
    "# range(0,20)\n",
    "print(\"Code for range(0,20) starts here\")\n",
    "\n",
    "for i in range(0, 20):\n",
    "    print(i)\n",
    "    \n",
    "# range(0,20, 2)\n",
    "print(\"Code for range(0,20, 2) starts here\")\n",
    "\n",
    "for i in range(0, 20, 2):\n",
    "    print(i)"
   ]
  },
  {
   "cell_type": "markdown",
   "id": "3b5e40fd",
   "metadata": {},
   "source": [
    "# 12. Write a short program that prints the numbers 1 to 10 using a for loop. Then write an equivalent program that prints the numbers 1 to 10 using a while loop.\n"
   ]
  },
  {
   "cell_type": "code",
   "execution_count": 51,
   "id": "4e9c3efe",
   "metadata": {},
   "outputs": [
    {
     "name": "stdout",
     "output_type": "stream",
     "text": [
      "Code for 'For' loop\n",
      "1\n",
      "2\n",
      "3\n",
      "4\n",
      "5\n",
      "6\n",
      "7\n",
      "8\n",
      "9\n",
      "10\n",
      "Code for While loop\n",
      "1\n",
      "2\n",
      "3\n",
      "4\n",
      "5\n",
      "6\n",
      "7\n",
      "8\n",
      "9\n",
      "10\n"
     ]
    }
   ],
   "source": [
    "# for Loop\n",
    "print(\"Code for 'For' loop\")\n",
    "for i in range(1, 11):\n",
    "    print(i)\n",
    "    \n",
    "# While Loop\n",
    "print(\"Code for While loop\")\n",
    "i = 1\n",
    "while i < 11:\n",
    "    print(i)\n",
    "    i = i+1"
   ]
  },
  {
   "cell_type": "markdown",
   "id": "f74d72ab",
   "metadata": {},
   "source": [
    "# 13. If you had a function named bacon() inside a module named spam, how would you call it after importing spam?\n"
   ]
  },
  {
   "cell_type": "code",
   "execution_count": null,
   "id": "87aa8840",
   "metadata": {},
   "outputs": [],
   "source": [
    "I would call it by spam.bacon()"
   ]
  },
  {
   "cell_type": "code",
   "execution_count": 52,
   "id": "02395a46",
   "metadata": {},
   "outputs": [
    {
     "data": {
      "text/plain": [
       "'C:\\\\Users\\\\Admin\\\\Desktop\\\\iNeuron'"
      ]
     },
     "execution_count": 52,
     "metadata": {},
     "output_type": "execute_result"
    }
   ],
   "source": [
    "pwd()"
   ]
  },
  {
   "cell_type": "code",
   "execution_count": null,
   "id": "34fdb44d",
   "metadata": {},
   "outputs": [],
   "source": []
  }
 ],
 "metadata": {
  "kernelspec": {
   "display_name": "Python 3 (ipykernel)",
   "language": "python",
   "name": "python3"
  },
  "language_info": {
   "codemirror_mode": {
    "name": "ipython",
    "version": 3
   },
   "file_extension": ".py",
   "mimetype": "text/x-python",
   "name": "python",
   "nbconvert_exporter": "python",
   "pygments_lexer": "ipython3",
   "version": "3.9.12"
  }
 },
 "nbformat": 4,
 "nbformat_minor": 5
}
