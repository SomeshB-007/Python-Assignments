{
 "cells": [
  {
   "cell_type": "raw",
   "id": "0514d74e",
   "metadata": {},
   "source": [
    "1. In the below elements which of them are values or an expression? \n",
    " eg:- values can be integer or string and expressions will be mathematical operators.\n",
    "\n",
    "Ans = 'hello', -87.8, 6 are \"Values\" where as *, -, /, + are the expression."
   ]
  },
  {
   "cell_type": "raw",
   "id": "e6443841",
   "metadata": {},
   "source": [
    "2. What is the difference between string and variable?\n",
    "\n",
    "Ans\n",
    "\n",
    "Major difference between string and variable is that we use variable to store the data like String. Example we can store the \"Somesh\" string in the \"name\" variable. "
   ]
  },
  {
   "cell_type": "raw",
   "id": "ea976538",
   "metadata": {},
   "source": [
    "3. Describe three different data types.\n",
    "\n",
    "Ans\n",
    "\n",
    "List = List is majorly used to store multiple data in the single variable.\n",
    "Integer = Integer are the numeriacal data type but it should not be in decimal. \n",
    "Boolean = Boolean is the data type consists of True or False."
   ]
  },
  {
   "cell_type": "raw",
   "id": "c47a5ed9",
   "metadata": {},
   "source": [
    "4. What is an expression made up of? What do all expressions do?\n",
    "\n",
    "Ans\n",
    "\n",
    "Expression are made up of mathematical values like -, +, *, /, =. Such expressions are used to conduct mathematical operations like 5 + 5 = 10."
   ]
  },
  {
   "cell_type": "raw",
   "id": "92b4cb91",
   "metadata": {},
   "source": [
    "5. This assignment statements, like spam = 10. What is the difference between an expression and a statement?\n",
    "\n",
    "Ans\n",
    "\n",
    "Statements are the instruction to perform something like print(\"Hello\") and expressions are like 5 + 5 = 10. "
   ]
  },
  {
   "cell_type": "raw",
   "id": "58ed5705",
   "metadata": {},
   "source": [
    "\n",
    "6. After running the following code, what does the variable bacon contain?\n",
    "bacon = 22\n",
    "bacon + 1\n",
    "\n",
    "Ans\n",
    "\n",
    "bacon variable will contain 23."
   ]
  },
  {
   "cell_type": "raw",
   "id": "96e15bb3",
   "metadata": {},
   "source": [
    "7. What should the values of the following two terms be?\n",
    "'spam' + 'spamspam'\n",
    "'spam' * 3\n",
    "\n",
    "\n",
    "Ans\n",
    "\n",
    "Value of the above terms will be as follows \n",
    "\n",
    "'spam' + 'spamspam' = 'spamspamspam'\n",
    "'spam' * 3 = 'spamspamspam'"
   ]
  },
  {
   "cell_type": "raw",
   "id": "80474ed1",
   "metadata": {},
   "source": [
    "8. Why is eggs a valid variable name while 100 is invalid?\n",
    "\n",
    "Ans\n",
    "\n",
    "Naming a variable with integer like 100 can bring an error in our code while compilation. Hence eggs is a valid variable name in successfully running out code. "
   ]
  },
  {
   "cell_type": "raw",
   "id": "35c00897",
   "metadata": {},
   "source": [
    "9. What three functions can be used to get the integer, floating-point number, or string version of a value?\n",
    " \n",
    "Ans\n",
    "\n",
    "int(), float(), and str() functions can be used to get the integer, floating-point number, or string version of the value. \n"
   ]
  },
  {
   "cell_type": "raw",
   "id": "d3b4eac9",
   "metadata": {},
   "source": [
    "10. Why does this expression cause an error? How can you fix it?\n",
    "'I have eaten ' + 99 + ' burritos.'\n",
    "\n",
    "Ans \n",
    "\n",
    "There are 2 data types in this expression i.e. integer and string. By converting 99 into string we can fix the error. \n",
    "\n",
    "So the correct code will be as below. \n",
    "\n",
    "'I have eaten ' + str(99) + ' burritos.'\n"
   ]
  },
  {
   "cell_type": "code",
   "execution_count": null,
   "id": "6fda3bfb",
   "metadata": {},
   "outputs": [],
   "source": []
  }
 ],
 "metadata": {
  "kernelspec": {
   "display_name": "Python 3 (ipykernel)",
   "language": "python",
   "name": "python3"
  },
  "language_info": {
   "codemirror_mode": {
    "name": "ipython",
    "version": 3
   },
   "file_extension": ".py",
   "mimetype": "text/x-python",
   "name": "python",
   "nbconvert_exporter": "python",
   "pygments_lexer": "ipython3",
   "version": "3.9.12"
  }
 },
 "nbformat": 4,
 "nbformat_minor": 5
}
