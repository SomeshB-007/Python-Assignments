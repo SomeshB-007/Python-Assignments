{
 "cells": [
  {
   "cell_type": "markdown",
   "id": "0e340e3c",
   "metadata": {},
   "source": [
    "# 1. Write a Python program to check if the given number is a Disarium Number?"
   ]
  },
  {
   "cell_type": "code",
   "execution_count": 140,
   "id": "ca953275",
   "metadata": {},
   "outputs": [
    {
     "name": "stdout",
     "output_type": "stream",
     "text": [
      "is Disarium number? True\n"
     ]
    }
   ],
   "source": [
    "def is_disarium(n):\n",
    "    temp = 0\n",
    "    counter = 1 \n",
    "    \n",
    "    # From here the loop begins\n",
    "    for digit in str(n):\n",
    "        temp += int(digit) ** counter # This will store the sum in the temp variable \n",
    "        counter += 1 # This will increase the value of the counter by 1 \n",
    "    return temp == n\n",
    "        \n",
    "\n",
    "n = 135\n",
    "print(\"is Disarium number?\",is_disarium(n))\n",
    "\n"
   ]
  },
  {
   "cell_type": "markdown",
   "id": "df0c41fb",
   "metadata": {},
   "source": [
    "# 2. Write a Python program to print all disarium numbers between 1 to 100?"
   ]
  },
  {
   "cell_type": "code",
   "execution_count": 141,
   "id": "021164b3",
   "metadata": {},
   "outputs": [
    {
     "name": "stdout",
     "output_type": "stream",
     "text": [
      "1 is a disarium number\n",
      "2 is a disarium number\n",
      "3 is a disarium number\n",
      "4 is a disarium number\n",
      "5 is a disarium number\n",
      "6 is a disarium number\n",
      "7 is a disarium number\n",
      "8 is a disarium number\n",
      "9 is a disarium number\n",
      "89 is a disarium number\n"
     ]
    }
   ],
   "source": [
    "def is_disarium(n):\n",
    "    \n",
    "    # From here the loop begins\n",
    "    for i in range(1, n):      # This will create the range from 1 to the number n\n",
    "        temp = 0\n",
    "        counter = 1\n",
    "        \n",
    "        # This loop will do the sum and store to the temp variable\n",
    "        for digit in str(i):\n",
    "            temp += int(digit) ** counter # This will store the sum in the temp variable \n",
    "            counter += 1\n",
    "        if temp == i:      # From here we can know whether any number is disarium number or not \n",
    "            print(i, \"is a disarium number\")\n",
    "            \n",
    "is_disarium(101)"
   ]
  },
  {
   "cell_type": "markdown",
   "id": "8d79f697",
   "metadata": {},
   "source": [
    " # 3. Write a Python program to check if the given number is Happy Number?"
   ]
  },
  {
   "cell_type": "code",
   "execution_count": 316,
   "id": "7bdb84a4",
   "metadata": {},
   "outputs": [
    {
     "data": {
      "text/plain": [
       "True"
      ]
     },
     "execution_count": 316,
     "metadata": {},
     "output_type": "execute_result"
    }
   ],
   "source": [
    "def is_happy_num(n):\n",
    "    temp = 0\n",
    "    counter = 1\n",
    "    \n",
    "    # 1 is by default happy number this will check that\n",
    "    if n == 1:\n",
    "        return True\n",
    "    \n",
    "    while n != 1 and counter < 11: # We can't perform the operations more than 10 times. So this loop will only run if the n is not 1 and the counter is less than 11\n",
    "        temp = 0\n",
    "        \n",
    "        for digit in str(n): # We have converted to string so that we can store the value in the \"digit\" vairable\n",
    "\n",
    "            temp += int(digit) ** 2 # Here we will convert every string element to integer to perform the math\n",
    "        n = temp\n",
    "        \n",
    "        if n == 1: # This condition will validate whether any number is a happy number or not \n",
    "            return True\n",
    "      \n",
    "        counter += 1 \n",
    "        \n",
    "    return False\n",
    "\n",
    "is_happy_num(31)\n",
    "    "
   ]
  },
  {
   "cell_type": "markdown",
   "id": "8f1fef35",
   "metadata": {},
   "source": [
    "# 4. Write a Python program to print all happy numbers between 1 and 100?"
   ]
  },
  {
   "cell_type": "code",
   "execution_count": 527,
   "id": "2632d472",
   "metadata": {},
   "outputs": [
    {
     "name": "stdout",
     "output_type": "stream",
     "text": [
      "These are the happy numbers\n",
      "1\n",
      "7\n",
      "10\n",
      "13\n",
      "19\n",
      "23\n",
      "28\n",
      "31\n",
      "32\n",
      "44\n",
      "49\n",
      "68\n",
      "70\n",
      "79\n",
      "82\n",
      "86\n",
      "91\n",
      "94\n",
      "97\n",
      "100\n"
     ]
    }
   ],
   "source": [
    "def is_happy_num(n):\n",
    "    print(\"These are the happy numbers\")\n",
    "    print(1) # This is because 1 is happy number by default\n",
    "    \n",
    "    # This loop will generate the list of happy numbers from 1 - 100\n",
    "    for i in range(1, n):\n",
    "        temp = 0\n",
    "        counter = 1\n",
    "        original_num = i\n",
    "        while i != 1 and counter < 11: # We can't perform the operations more than 10 times. So this loop will only run if the n is not 1 and the counter is less than 11\n",
    "            temp = 0\n",
    "            \n",
    "            for digit in str(i): # We have converted to string so that we can store the value in the \"digit\" vairable\n",
    "            \n",
    "            \n",
    "                temp += int(digit) ** 2 # Here we will convert every string element to integer to perform the math\n",
    "            i = temp\n",
    "            \n",
    "            if i == 1:\n",
    "\n",
    "                print(original_num)\n",
    "            counter += 1\n",
    "\n",
    "is_happy_num(101)\n",
    "    "
   ]
  },
  {
   "cell_type": "markdown",
   "id": "3d2cde3e",
   "metadata": {},
   "source": [
    "# 5. Write a Python program to determine whether the given number is a Harshad Number?"
   ]
  },
  {
   "cell_type": "code",
   "execution_count": 528,
   "id": "d458fff8",
   "metadata": {},
   "outputs": [
    {
     "data": {
      "text/plain": [
       "True"
      ]
     },
     "execution_count": 528,
     "metadata": {},
     "output_type": "execute_result"
    }
   ],
   "source": [
    "\n",
    "def harshad_num(n):\n",
    "    \n",
    "    temp = 0\n",
    "   \n",
    "   # From here the loop begins \n",
    "    for digit in str(n):\n",
    "        temp += int(digit)\n",
    "    return n%temp == 0 # This will perform the math\n",
    "\n",
    "    print(n, \"is harshad number\")\n",
    "        \n",
    "    \n",
    "        \n",
    "harshad_num(12)"
   ]
  },
  {
   "cell_type": "markdown",
   "id": "dc21b0d7",
   "metadata": {},
   "source": [
    "## Below is the code to list out the harshad numbers from 1-100"
   ]
  },
  {
   "cell_type": "code",
   "execution_count": 411,
   "id": "684916c9",
   "metadata": {},
   "outputs": [
    {
     "name": "stdout",
     "output_type": "stream",
     "text": [
      "These are harshad numbers\n",
      "1\n",
      "2\n",
      "3\n",
      "4\n",
      "5\n",
      "6\n",
      "7\n",
      "8\n",
      "9\n",
      "10\n",
      "12\n",
      "18\n",
      "20\n",
      "21\n",
      "24\n",
      "27\n",
      "30\n",
      "36\n",
      "40\n",
      "42\n",
      "45\n",
      "48\n",
      "50\n",
      "54\n",
      "60\n",
      "63\n",
      "70\n",
      "72\n",
      "80\n",
      "81\n",
      "84\n",
      "90\n",
      "100\n"
     ]
    }
   ],
   "source": [
    "def harshad_nums(n):\n",
    "    \n",
    "    temp = 0\n",
    "   # From here the loop begins\n",
    "    for digit in str(n):\n",
    "           \n",
    "        temp += int(digit)\n",
    "           \n",
    "    return n%temp == 0 # Here we will perfomra the math \n",
    "   \n",
    "print(\"These are harshad numbers\")\n",
    "for n in range(1, 101):\n",
    "    if harshad_nums(n):\n",
    "        print(n)\n",
    "        \n",
    "    "
   ]
  },
  {
   "cell_type": "markdown",
   "id": "96e94bbf",
   "metadata": {},
   "source": [
    "# 6. Write a Python program to print all pronic numbers between 1 and 100?"
   ]
  },
  {
   "cell_type": "markdown",
   "id": "55cff9a6",
   "metadata": {},
   "source": [
    "\n"
   ]
  },
  {
   "cell_type": "code",
   "execution_count": 523,
   "id": "bbbc6086",
   "metadata": {},
   "outputs": [
    {
     "name": "stdout",
     "output_type": "stream",
     "text": [
      "These are the pronic numbers\n",
      "2\n",
      "6\n",
      "12\n",
      "20\n",
      "30\n",
      "42\n",
      "56\n",
      "72\n",
      "90\n"
     ]
    }
   ],
   "source": [
    "def pronic_number(num):\n",
    "    \n",
    "\n",
    "    for i in range(1, num):\n",
    "        if (num == i*(i+1)):\n",
    "            print(num)\n",
    "                  \n",
    "        \n",
    "            \n",
    "print(\"These are the pronic numbers\")\n",
    "for n in range(1, 101):\n",
    "    if pronic_number(n):\n",
    "        print(n)\n",
    "\n",
    "        \n",
    "        \n"
   ]
  },
  {
   "cell_type": "code",
   "execution_count": null,
   "id": "b91acd10",
   "metadata": {},
   "outputs": [],
   "source": []
  }
 ],
 "metadata": {
  "kernelspec": {
   "display_name": "Python 3 (ipykernel)",
   "language": "python",
   "name": "python3"
  },
  "language_info": {
   "codemirror_mode": {
    "name": "ipython",
    "version": 3
   },
   "file_extension": ".py",
   "mimetype": "text/x-python",
   "name": "python",
   "nbconvert_exporter": "python",
   "pygments_lexer": "ipython3",
   "version": "3.9.12"
  }
 },
 "nbformat": 4,
 "nbformat_minor": 5
}
