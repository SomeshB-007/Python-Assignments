{
 "cells": [
  {
   "cell_type": "markdown",
   "id": "52648a23",
   "metadata": {},
   "source": [
    "# 1. Create a function that takes a string and returns a string in which each character is repeated once.\n"
   ]
  },
  {
   "cell_type": "code",
   "execution_count": 23,
   "id": "ee412ba6",
   "metadata": {},
   "outputs": [
    {
     "data": {
      "text/plain": [
       "'HHeelllloo  WWoorrlldd__'"
      ]
     },
     "execution_count": 23,
     "metadata": {},
     "output_type": "execute_result"
    }
   ],
   "source": [
    "def double_char(s):\n",
    "    result = \"\"\n",
    "    for i in s:\n",
    "        result += i*2\n",
    "    return result\n",
    "    \n",
    "double_char(\"Hello World_\")\n",
    "    \n",
    "            "
   ]
  },
  {
   "cell_type": "markdown",
   "id": "29475e68",
   "metadata": {},
   "source": [
    "# 2. Create a function that reverses a boolean value and returns the string \"boolean expected\" if another variable type is given."
   ]
  },
  {
   "cell_type": "markdown",
   "id": "e8e1565b",
   "metadata": {},
   "source": [
    "- Not able to understand this questions"
   ]
  },
  {
   "cell_type": "markdown",
   "id": "22222d33",
   "metadata": {},
   "source": [
    "# 3. Create a function that returns the thickness (in meters) of a piece of paper after folding it n number of times. The paper starts off with a thickness of 0.5mm."
   ]
  },
  {
   "cell_type": "code",
   "execution_count": 31,
   "id": "7c3cffb5",
   "metadata": {},
   "outputs": [
    {
     "data": {
      "text/plain": [
       "1048.576"
      ]
     },
     "execution_count": 31,
     "metadata": {},
     "output_type": "execute_result"
    }
   ],
   "source": [
    "def num_layers(n):\n",
    "    thickness = 0.5 * 2**n\n",
    "    thickness_meter = thickness/1000\n",
    "    return thickness_meter\n",
    "num_layers(21)"
   ]
  },
  {
   "cell_type": "markdown",
   "id": "f3fd6262",
   "metadata": {},
   "source": [
    "# 4. Create a function that takes a single string as argument and returns an ordered list containing the indices of all capital letters in the string.\n"
   ]
  },
  {
   "cell_type": "code",
   "execution_count": 72,
   "id": "07052ab0",
   "metadata": {},
   "outputs": [
    {
     "data": {
      "text/plain": [
       "[0, 4]"
      ]
     },
     "execution_count": 72,
     "metadata": {},
     "output_type": "execute_result"
    }
   ],
   "source": [
    "def index_of_caps(s):\n",
    "    index_list = []\n",
    "\n",
    "    try:\n",
    "        \n",
    "        for i in range(len(s)):\n",
    "            if ord(s[i]) > 64 and ord(s[i]) < 91:\n",
    "                index_list.append(i)\n",
    "        return index_list\n",
    "    except Exception as e:\n",
    "        return e\n",
    "        \n",
    "        \n",
    "index_of_caps(\"HellO\")"
   ]
  },
  {
   "cell_type": "markdown",
   "id": "6470449a",
   "metadata": {},
   "source": [
    "# 5. Using list comprehensions, create a function that finds all even numbers from 1 to the given number."
   ]
  },
  {
   "cell_type": "code",
   "execution_count": 75,
   "id": "0447a93d",
   "metadata": {},
   "outputs": [
    {
     "data": {
      "text/plain": [
       "[2, 4, 6, 8]"
      ]
     },
     "execution_count": 75,
     "metadata": {},
     "output_type": "execute_result"
    }
   ],
   "source": [
    "def even_num(n):\n",
    "    even_num = []\n",
    "    for i in range(1, n):\n",
    "        if i%2 == 0:\n",
    "            even_num.append(i)\n",
    "    return even_num\n",
    "\n",
    "even_num(10)\n",
    "            "
   ]
  },
  {
   "cell_type": "code",
   "execution_count": null,
   "id": "fa0b5546",
   "metadata": {},
   "outputs": [],
   "source": []
  }
 ],
 "metadata": {
  "kernelspec": {
   "display_name": "Python 3 (ipykernel)",
   "language": "python",
   "name": "python3"
  },
  "language_info": {
   "codemirror_mode": {
    "name": "ipython",
    "version": 3
   },
   "file_extension": ".py",
   "mimetype": "text/x-python",
   "name": "python",
   "nbconvert_exporter": "python",
   "pygments_lexer": "ipython3",
   "version": "3.9.12"
  }
 },
 "nbformat": 4,
 "nbformat_minor": 5
}
