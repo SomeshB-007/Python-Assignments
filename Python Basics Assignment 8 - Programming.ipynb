{
 "cells": [
  {
   "cell_type": "markdown",
   "id": "15c7c38f",
   "metadata": {},
   "source": [
    "# 1. Write a Python Program to Add Two Matrices?"
   ]
  },
  {
   "cell_type": "code",
   "execution_count": 30,
   "id": "e43386c4",
   "metadata": {},
   "outputs": [
    {
     "data": {
      "text/plain": [
       "[5, 10, 8, -2]"
      ]
     },
     "execution_count": 30,
     "metadata": {},
     "output_type": "execute_result"
    }
   ],
   "source": [
    "def matrice_add(n1, n2):\n",
    "    \n",
    "    # Here we are creating the new variable\n",
    "    a = matrice1[0] + matrice2[0]\n",
    "    b = matrice1[1] + matrice2[1]\n",
    "    c = matrice1[2] + matrice2[2]\n",
    "    d = matrice1[3] + matrice2[3]\n",
    "    final_matrice_addition = [a, b, c, d] # Here we will store the final results and return it \n",
    "    \n",
    "    return final_matrice_addition\n",
    "\n",
    "\n",
    "matrice_add([1, 2, 5,-3],[4, 8, 3, 1] )\n",
    "\n",
    "\n"
   ]
  },
  {
   "cell_type": "markdown",
   "id": "188e2376",
   "metadata": {},
   "source": [
    "# 2. Write a Python Program to Multiply Two Matrices?"
   ]
  },
  {
   "cell_type": "code",
   "execution_count": 44,
   "id": "6eba263c",
   "metadata": {},
   "outputs": [
    {
     "name": "stdout",
     "output_type": "stream",
     "text": [
      "[102, 145]\n",
      "[50, 67]\n"
     ]
    }
   ],
   "source": [
    "# Program to multiply two matrices using nested loops\n",
    "\n",
    "A = [[12,7],\n",
    "     [4 ,5]]\n",
    "\n",
    "B = [[5,8],\n",
    "     [6,7]]\n",
    "\n",
    "result = [[0,0],\n",
    "          [0,0]]\n",
    "for i in range(len(A)):\n",
    " \n",
    "    # iterating by column by B\n",
    "    for j in range(len(B[0])):\n",
    " \n",
    "        # iterating by rows of B\n",
    "        for k in range(len(B[1])):\n",
    "            result[i][j] += A[i][k] * B[k][j]\n",
    "\n",
    "for r in result:\n",
    "    print(r)\n",
    "\n",
    "\n",
    "\n"
   ]
  },
  {
   "cell_type": "markdown",
   "id": "6bdb50db",
   "metadata": {},
   "source": [
    "# 3. Write a Python Program to Transpose a Matrix?"
   ]
  },
  {
   "cell_type": "code",
   "execution_count": 255,
   "id": "a50c62f0",
   "metadata": {},
   "outputs": [
    {
     "ename": "SyntaxError",
     "evalue": "invalid syntax (2145415279.py, line 10)",
     "output_type": "error",
     "traceback": [
      "\u001b[1;36m  Cell \u001b[1;32mIn [255], line 10\u001b[1;36m\u001b[0m\n\u001b[1;33m    print(a[])\u001b[0m\n\u001b[1;37m            ^\u001b[0m\n\u001b[1;31mSyntaxError\u001b[0m\u001b[1;31m:\u001b[0m invalid syntax\n"
     ]
    }
   ],
   "source": [
    "a = [[1, -2],\n",
    "     [3, -5],\n",
    "     [7, -1]]\n",
    "\n",
    "result = [[0,0,0],\n",
    "          [0,0,0]]\n",
    "\n",
    "# this will iterate row\n",
    "for i in range(len(a)):\n",
    "    print(a[i])\n",
    "  # this will iterate column\n",
    "    for j in range(len(a[0])):\n",
    "        result[j][i] = a[i][j]\n",
    "\n",
    "        \n",
    "for r in result:   \n",
    "    print(r)\n",
    "          "
   ]
  },
  {
   "cell_type": "markdown",
   "id": "527f1f16",
   "metadata": {},
   "source": [
    "# 4. Write a Python Program to Sort Words in Alphabetic Order?\n",
    "\n"
   ]
  },
  {
   "cell_type": "code",
   "execution_count": 163,
   "id": "a238c8ec",
   "metadata": {},
   "outputs": [
    {
     "name": "stdout",
     "output_type": "stream",
     "text": [
      "['S', 'b', 'f', 'h', 'k', 'l', 'n', 'q', 's']\n"
     ]
    }
   ],
   "source": [
    "array = [\"f\", \"s\", \"k\", \"b\", \"n\", \"q\", \"h\", \"l\", \"S\"]\n",
    "\n",
    "array.sort()\n",
    "print(array)"
   ]
  },
  {
   "cell_type": "markdown",
   "id": "9c24bf75",
   "metadata": {},
   "source": [
    "# 5. Write a Python Program to Remove Punctuation From a String?"
   ]
  },
  {
   "cell_type": "code",
   "execution_count": 229,
   "id": "72703c16",
   "metadata": {},
   "outputs": [
    {
     "name": "stdout",
     "output_type": "stream",
     "text": [
      "My name is Somesh I live in Indias best city\n"
     ]
    }
   ],
   "source": [
    "string = \"My name is Somesh, I live in India's best city.\"\n",
    "punctuation = \",.'/\"\n",
    "\n",
    "for i in string:\n",
    "    if i in punctuation:\n",
    "        string =  string.replace(i, \"\")\n",
    "        \n",
    "print(string)"
   ]
  },
  {
   "cell_type": "code",
   "execution_count": null,
   "id": "2240e0b5",
   "metadata": {},
   "outputs": [],
   "source": []
  },
  {
   "cell_type": "code",
   "execution_count": null,
   "id": "78445adf",
   "metadata": {},
   "outputs": [],
   "source": []
  }
 ],
 "metadata": {
  "kernelspec": {
   "display_name": "Python 3 (ipykernel)",
   "language": "python",
   "name": "python3"
  },
  "language_info": {
   "codemirror_mode": {
    "name": "ipython",
    "version": 3
   },
   "file_extension": ".py",
   "mimetype": "text/x-python",
   "name": "python",
   "nbconvert_exporter": "python",
   "pygments_lexer": "ipython3",
   "version": "3.9.12"
  }
 },
 "nbformat": 4,
 "nbformat_minor": 5
}
