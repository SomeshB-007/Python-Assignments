{
 "cells": [
  {
   "cell_type": "markdown",
   "id": "90b0c705",
   "metadata": {},
   "source": [
    "# 1. Write a Python Program to Add Two Matrices?"
   ]
  },
  {
   "cell_type": "code",
   "execution_count": 30,
   "id": "ad9505ee",
   "metadata": {},
   "outputs": [
    {
     "data": {
      "text/plain": [
       "[5, 10, 8, -2]"
      ]
     },
     "execution_count": 30,
     "metadata": {},
     "output_type": "execute_result"
    }
   ],
   "source": [
    "def matrice_add(n1, n2):\n",
    "    \n",
    "    # Here we are creating the new variable\n",
    "    a = matrice1[0] + matrice2[0]\n",
    "    b = matrice1[1] + matrice2[1]\n",
    "    c = matrice1[2] + matrice2[2]\n",
    "    d = matrice1[3] + matrice2[3]\n",
    "    final_matrice_addition = [a, b, c, d] # Here we will store the final results and return it \n",
    "    \n",
    "    return final_matrice_addition\n",
    "\n",
    "\n",
    "matrice_add([1, 2, 5,-3],[4, 8, 3, 1] )\n",
    "\n",
    "\n"
   ]
  },
  {
   "cell_type": "markdown",
   "id": "f677792d",
   "metadata": {},
   "source": [
    "# 2. Write a Python Program to Multiply Two Matrices?"
   ]
  },
  {
   "cell_type": "code",
   "execution_count": 44,
   "id": "0a177918",
   "metadata": {},
   "outputs": [
    {
     "name": "stdout",
     "output_type": "stream",
     "text": [
      "[102, 145]\n",
      "[50, 67]\n"
     ]
    }
   ],
   "source": [
    "# Program to multiply two matrices using nested loops\n",
    "\n",
    "A = [[12,7],\n",
    "     [4 ,5]]\n",
    "\n",
    "B = [[5,8],\n",
    "     [6,7]]\n",
    "\n",
    "result = [[0,0],\n",
    "          [0,0]]\n",
    "for i in range(len(A)):\n",
    " \n",
    "    # iterating by column by B\n",
    "    for j in range(len(B[0])):\n",
    " \n",
    "        # iterating by rows of B\n",
    "        for k in range(len(B[1])):\n",
    "            result[i][j] += A[i][k] * B[k][j]\n",
    "\n",
    "for r in result:\n",
    "    print(r)\n",
    "\n",
    "\n",
    "\n"
   ]
  },
  {
   "cell_type": "markdown",
   "id": "3ead3181",
   "metadata": {},
   "source": [
    "# 3. Write a Python Program to Transpose a Matrix?"
   ]
  },
  {
   "cell_type": "code",
   "execution_count": 257,
   "id": "7b889832",
   "metadata": {},
   "outputs": [
    {
     "name": "stdout",
     "output_type": "stream",
     "text": [
      "[1, 3, 7]\n",
      "[-2, -5, -1]\n"
     ]
    }
   ],
   "source": [
    "a = [[1, -2],\n",
    "     [3, -5],\n",
    "     [7, -1]]\n",
    "\n",
    "result = [[0,0,0],\n",
    "          [0,0,0]]\n",
    "\n",
    "# this will iterate row\n",
    "for i in range(len(a)):\n",
    "    \n",
    "  # this will iterate column\n",
    "    for j in range(len(a[0])):\n",
    "        result[j][i] = a[i][j]\n",
    "\n",
    "        \n",
    "for r in result:   \n",
    "    print(r)\n",
    "          "
   ]
  },
  {
   "cell_type": "markdown",
   "id": "33bd9e66",
   "metadata": {},
   "source": [
    "# 4. Write a Python Program to Sort Words in Alphabetic Order?\n",
    "\n"
   ]
  },
  {
   "cell_type": "code",
   "execution_count": 163,
   "id": "94ff5d4a",
   "metadata": {},
   "outputs": [
    {
     "name": "stdout",
     "output_type": "stream",
     "text": [
      "['S', 'b', 'f', 'h', 'k', 'l', 'n', 'q', 's']\n"
     ]
    }
   ],
   "source": [
    "array = [\"f\", \"s\", \"k\", \"b\", \"n\", \"q\", \"h\", \"l\", \"S\"]\n",
    "\n",
    "array.sort()\n",
    "print(array)"
   ]
  },
  {
   "cell_type": "markdown",
   "id": "417d69c1",
   "metadata": {},
   "source": [
    "# 5. Write a Python Program to Remove Punctuation From a String?"
   ]
  },
  {
   "cell_type": "code",
   "execution_count": 229,
   "id": "6ee2b9c4",
   "metadata": {},
   "outputs": [
    {
     "name": "stdout",
     "output_type": "stream",
     "text": [
      "My name is Somesh I live in Indias best city\n"
     ]
    }
   ],
   "source": [
    "string = \"My name is Somesh, I live in India's best city.\"\n",
    "punctuation = \",.'/\"\n",
    "\n",
    "for i in string:\n",
    "    if i in punctuation:\n",
    "        string =  string.replace(i, \"\") # This will replace the punctuation\n",
    "        \n",
    "print(string)"
   ]
  },
  {
   "cell_type": "code",
   "execution_count": null,
   "id": "677370d2",
   "metadata": {},
   "outputs": [],
   "source": []
  },
  {
   "cell_type": "code",
   "execution_count": null,
   "id": "c1247dca",
   "metadata": {},
   "outputs": [],
   "source": []
  }
 ],
 "metadata": {
  "kernelspec": {
   "display_name": "Python 3 (ipykernel)",
   "language": "python",
   "name": "python3"
  },
  "language_info": {
   "codemirror_mode": {
    "name": "ipython",
    "version": 3
   },
   "file_extension": ".py",
   "mimetype": "text/x-python",
   "name": "python",
   "nbconvert_exporter": "python",
   "pygments_lexer": "ipython3",
   "version": "3.9.12"
  }
 },
 "nbformat": 4,
 "nbformat_minor": 5
}
