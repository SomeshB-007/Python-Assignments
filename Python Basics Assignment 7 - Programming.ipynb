{
 "cells": [
  {
   "cell_type": "markdown",
   "id": "968b4ab3",
   "metadata": {},
   "source": [
    "# 1. Write a Python Program to find sum of array?\n"
   ]
  },
  {
   "cell_type": "code",
   "execution_count": 5,
   "id": "c6cbf18e",
   "metadata": {},
   "outputs": [
    {
     "name": "stdout",
     "output_type": "stream",
     "text": [
      "15\n"
     ]
    }
   ],
   "source": [
    "array = [1,2,3,4,5]\n",
    "\n",
    "summ = sum(array)\n",
    "print(summ)"
   ]
  },
  {
   "cell_type": "markdown",
   "id": "865fc165",
   "metadata": {},
   "source": [
    "# 2. Write a Python Program to find largest element in an array? "
   ]
  },
  {
   "cell_type": "code",
   "execution_count": 17,
   "id": "ea332e51",
   "metadata": {},
   "outputs": [
    {
     "name": "stdout",
     "output_type": "stream",
     "text": [
      "9\n"
     ]
    }
   ],
   "source": [
    "num = [3,6,7,2,9]\n",
    "\n",
    "max_num = max(num)\n",
    "print(max_num)"
   ]
  },
  {
   "cell_type": "markdown",
   "id": "197b9e3c",
   "metadata": {},
   "source": [
    "# 3. Write a Python Program for array rotation?"
   ]
  },
  {
   "cell_type": "code",
   "execution_count": 35,
   "id": "78e838f6",
   "metadata": {},
   "outputs": [
    {
     "name": "stdout",
     "output_type": "stream",
     "text": [
      "This is the reversed array\n",
      "[4, 5, 6, 7, 2, 80, 8]\n"
     ]
    }
   ],
   "source": [
    "def rotate_array(array):\n",
    "    print(array[::-1])\n",
    "\n",
    "print(\"This is the reversed array\")    \n",
    "rotate_array([8, 80, 2, 7, 6, 5, 4])"
   ]
  },
  {
   "cell_type": "markdown",
   "id": "8d9ebd91",
   "metadata": {},
   "source": [
    " # 4. Write a Python Program to Split the array and add the first part to the end?"
   ]
  },
  {
   "cell_type": "code",
   "execution_count": 14,
   "id": "0ca445c8",
   "metadata": {},
   "outputs": [
    {
     "name": "stdout",
     "output_type": "stream",
     "text": [
      "[3, 4, 1, 2]\n"
     ]
    }
   ],
   "source": [
    "def split_array(array, k):\n",
    "    array = array[k:] + array[:k]\n",
    "    return array\n",
    "\n",
    "k = 2\n",
    "\n",
    "array = [1,2,3,4]\n",
    "print(split_array(array, k))\n",
    "   \n",
    "\n",
    "\n"
   ]
  },
  {
   "cell_type": "markdown",
   "id": "537e9622",
   "metadata": {},
   "source": [
    "# 5. Write a Python Program to check if given array is Monotonic?"
   ]
  },
  {
   "cell_type": "code",
   "execution_count": 25,
   "id": "a20281ec",
   "metadata": {},
   "outputs": [
    {
     "name": "stdout",
     "output_type": "stream",
     "text": [
      "True\n"
     ]
    }
   ],
   "source": [
    "def is_monotonic(A):\n",
    "    return (all(A[i] <= A[i+1] for i in range(len(A) - 1)) or\n",
    "            all(A[i] >= A[i+1] for i in range(len(A) - 1)))\n",
    "\n",
    "# Driver program\n",
    "A = [6, 5, 4, 4]\n",
    " \n",
    "# Print required result\n",
    "print(is_monotonic(A))"
   ]
  },
  {
   "cell_type": "code",
   "execution_count": null,
   "id": "97928376",
   "metadata": {},
   "outputs": [],
   "source": []
  }
 ],
 "metadata": {
  "kernelspec": {
   "display_name": "Python 3 (ipykernel)",
   "language": "python",
   "name": "python3"
  },
  "language_info": {
   "codemirror_mode": {
    "name": "ipython",
    "version": 3
   },
   "file_extension": ".py",
   "mimetype": "text/x-python",
   "name": "python",
   "nbconvert_exporter": "python",
   "pygments_lexer": "ipython3",
   "version": "3.9.12"
  }
 },
 "nbformat": 4,
 "nbformat_minor": 5
}
