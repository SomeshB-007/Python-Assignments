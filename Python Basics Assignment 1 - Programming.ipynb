{
 "cells": [
  {
   "cell_type": "markdown",
   "id": "816d4cbe",
   "metadata": {},
   "source": [
    "1. Write a Python program to print \"Hello Python\"?"
   ]
  },
  {
   "cell_type": "code",
   "execution_count": 1,
   "id": "7341b990",
   "metadata": {},
   "outputs": [
    {
     "name": "stdout",
     "output_type": "stream",
     "text": [
      "Hello Python\n"
     ]
    }
   ],
   "source": [
    "print(\"Hello Python\")"
   ]
  },
  {
   "cell_type": "markdown",
   "id": "222b5dab",
   "metadata": {},
   "source": [
    "2. Write a Python program to do arithmetical operations addition and division.?\n"
   ]
  },
  {
   "cell_type": "code",
   "execution_count": 3,
   "id": "95818b44",
   "metadata": {},
   "outputs": [
    {
     "name": "stdout",
     "output_type": "stream",
     "text": [
      "30\n"
     ]
    }
   ],
   "source": [
    "#Addition\n",
    "\n",
    "number1 = 10\n",
    "number2 = 20\n",
    "\n",
    "result = number1 + number2\n",
    "\n",
    "print(result)"
   ]
  },
  {
   "cell_type": "code",
   "execution_count": 4,
   "id": "489d564e",
   "metadata": {},
   "outputs": [
    {
     "name": "stdout",
     "output_type": "stream",
     "text": [
      "2.0\n"
     ]
    }
   ],
   "source": [
    "#division\n",
    "\n",
    "num1 = 20\n",
    "num2 = 10\n",
    "\n",
    "res = num1 / num2\n",
    "\n",
    "print(res)"
   ]
  },
  {
   "cell_type": "markdown",
   "id": "37df855b",
   "metadata": {},
   "source": [
    "3. Write a Python program to find the area of a triangle?"
   ]
  },
  {
   "cell_type": "code",
   "execution_count": 15,
   "id": "dbf7b058",
   "metadata": {},
   "outputs": [
    {
     "name": "stdout",
     "output_type": "stream",
     "text": [
      "Insert the height 6\n",
      "Insert the base 18\n",
      "54\n"
     ]
    }
   ],
   "source": [
    "# To find the area of the triangle we are using the area = height*base*1/2 formula\n",
    "\n",
    "height = int(input(\"Insert the height \"))\n",
    "base = int(input(\"Insert the base \"))\n",
    "\n",
    "area = height*base*1/2\n",
    "\n",
    "print(int(area))"
   ]
  },
  {
   "cell_type": "markdown",
   "id": "347d97a5",
   "metadata": {},
   "source": [
    "4. Write a Python program to swap two variables?"
   ]
  },
  {
   "cell_type": "code",
   "execution_count": 22,
   "id": "c5916ef8",
   "metadata": {},
   "outputs": [
    {
     "name": "stdout",
     "output_type": "stream",
     "text": [
      "Insert the new value for the num1 60\n",
      "Insert the new value for the num2 70\n",
      "Value for num1 is  60\n",
      "Value for num2 is  70\n"
     ]
    }
   ],
   "source": [
    "num1 = 10\n",
    "num2 = 20\n",
    "\n",
    "# Now we will take the input for the num1 and num2 and that value we will assign it to the num1 and num2 variable \n",
    "\n",
    "ch_num1 = input(\"Insert the new value for the num1 \")\n",
    "ch_num2 = input(\"Insert the new value for the num2 \")\n",
    "\n",
    "# We are assign the new values to the old variables\n",
    "\n",
    "num1 = ch_num1\n",
    "num2 = ch_num2\n",
    "\n",
    "print(\"Value for num1 is \", num1)\n",
    "print(\"Value for num2 is \", num2)"
   ]
  },
  {
   "cell_type": "markdown",
   "id": "6f8594fa",
   "metadata": {},
   "source": [
    "5. Write a Python program to generate a random number?\n"
   ]
  },
  {
   "cell_type": "code",
   "execution_count": 26,
   "id": "26859eda",
   "metadata": {},
   "outputs": [
    {
     "name": "stdout",
     "output_type": "stream",
     "text": [
      "8\n"
     ]
    }
   ],
   "source": [
    "\n",
    "\n",
    "import random\n",
    "\n",
    "num_list = [1,2,3,4,5,6,7,8,9]\n",
    "print(random.choice(num_list))"
   ]
  },
  {
   "cell_type": "code",
   "execution_count": null,
   "id": "b0fe7183",
   "metadata": {},
   "outputs": [],
   "source": []
  }
 ],
 "metadata": {
  "kernelspec": {
   "display_name": "Python 3 (ipykernel)",
   "language": "python",
   "name": "python3"
  },
  "language_info": {
   "codemirror_mode": {
    "name": "ipython",
    "version": 3
   },
   "file_extension": ".py",
   "mimetype": "text/x-python",
   "name": "python",
   "nbconvert_exporter": "python",
   "pygments_lexer": "ipython3",
   "version": "3.9.12"
  }
 },
 "nbformat": 4,
 "nbformat_minor": 5
}
