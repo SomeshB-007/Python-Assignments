{
 "cells": [
  {
   "cell_type": "code",
   "execution_count": 144,
   "id": "a9ab00d9",
   "metadata": {},
   "outputs": [],
   "source": [
    "import logging\n",
    "logging.basicConfig(filename = \"jplogs.log\", level = logging.INFO, format = '%(asctime)s - %(name)s - %(levelname)s - %(message)s')"
   ]
  },
  {
   "cell_type": "markdown",
   "id": "921fc949",
   "metadata": {},
   "source": [
    "# 1. Create a function that takes a list of non-negative integers and strings and return a new list without the strings."
   ]
  },
  {
   "cell_type": "code",
   "execution_count": 12,
   "id": "e023f98e",
   "metadata": {},
   "outputs": [
    {
     "data": {
      "text/plain": [
       "[1, 0, 15]"
      ]
     },
     "execution_count": 12,
     "metadata": {},
     "output_type": "execute_result"
    }
   ],
   "source": [
    "def filter_int(l):\n",
    "    try:\n",
    "        int_list = [i for i in l if type(i)==int]\n",
    "        logging.info(\"this is the last second step\")\n",
    "        return int_list\n",
    "    except Exception as e:\n",
    "        logging.info(\"This is the erorr\", e)\n",
    "        \n",
    "filter_int([1, \"a\", \"b\", 0, 15])\n",
    "            "
   ]
  },
  {
   "cell_type": "markdown",
   "id": "4f6eb597",
   "metadata": {},
   "source": [
    "# 2. The \"Reverser\" takes a string as input and returns that string in reverse order, with the opposite case.\n"
   ]
  },
  {
   "cell_type": "code",
   "execution_count": 46,
   "id": "8fb42afb",
   "metadata": {},
   "outputs": [
    {
     "data": {
      "text/plain": [
       "'eSrEvEr'"
      ]
     },
     "execution_count": 46,
     "metadata": {},
     "output_type": "execute_result"
    }
   ],
   "source": [
    "def reverse(s):\n",
    "        \n",
    "    try:\n",
    "        logging.info(\"This the start of list comprehension\")\n",
    "        result = \"\".join(char.upper() if char.islower() else char.lower() for char in s[::-1])\n",
    "        return result\n",
    "    except Exception as e:\n",
    "        logging.error(\"This is the error\", e)\n",
    "        \n",
    "reverse(\"ReVeRsE\")\n",
    "    "
   ]
  },
  {
   "cell_type": "markdown",
   "id": "15482b0c",
   "metadata": {},
   "source": [
    "# 3. You can assign variables from lists like this:\n"
   ]
  },
  {
   "cell_type": "code",
   "execution_count": 53,
   "id": "7ff822aa",
   "metadata": {},
   "outputs": [
    {
     "name": "stdout",
     "output_type": "stream",
     "text": [
      "2\n",
      "[4, 5, 10, 8]\n",
      "9\n"
     ]
    }
   ],
   "source": [
    "lst = [2,4,5,10,8,9]\n",
    "\n",
    "start = print(lst[0])\n",
    "middle = print(lst[1:-1])\n",
    "last = print(lst[-1])"
   ]
  },
  {
   "cell_type": "markdown",
   "id": "a4decdae",
   "metadata": {},
   "source": [
    "# 4. Write a function that calculates the factorial of a number recursively."
   ]
  },
  {
   "cell_type": "code",
   "execution_count": 93,
   "id": "2415b662",
   "metadata": {},
   "outputs": [
    {
     "data": {
      "text/plain": [
       "720"
      ]
     },
     "execution_count": 93,
     "metadata": {},
     "output_type": "execute_result"
    }
   ],
   "source": [
    "def factorial(n):\n",
    "    counter = 0\n",
    "    summ = 1\n",
    "    \n",
    "    try: \n",
    "        logging.info(\"Factorial loop starts here\")\n",
    "        for num in range(n):\n",
    "            summ+= summ* counter\n",
    "            counter += 1\n",
    "            logging.info(\"Iteration %d\" , summ)\n",
    "        return summ\n",
    "    except Exception as e:\n",
    "        logging.info(\"This is the error\", e)\n",
    "\n",
    "factorial(6)"
   ]
  },
  {
   "cell_type": "markdown",
   "id": "01d74644",
   "metadata": {},
   "source": [
    "# 5. Write a function that moves all elements of one type to the end of the list."
   ]
  },
  {
   "cell_type": "code",
   "execution_count": 146,
   "id": "9b00e7db",
   "metadata": {},
   "outputs": [
    {
     "data": {
      "text/plain": [
       "[3, 2, 4, 4, 1, 1]"
      ]
     },
     "execution_count": 146,
     "metadata": {},
     "output_type": "execute_result"
    }
   ],
   "source": [
    "def move_to_end(l, n):\n",
    "    try:\n",
    "        logging.warning(\"This is the start of list comprehension %d\", n)\n",
    "        new_list = [i for i in l if i != n] + [j for j in l if j==n]\n",
    "        return new_list\n",
    "    except Exception as e:\n",
    "        logging.error(e)\n",
    "    \n",
    "\n",
    "\n",
    "move_to_end([1, 3, 2, 4, 4, 1], 1)"
   ]
  },
  {
   "cell_type": "code",
   "execution_count": null,
   "id": "b5cd180f",
   "metadata": {},
   "outputs": [],
   "source": []
  }
 ],
 "metadata": {
  "kernelspec": {
   "display_name": "Python 3 (ipykernel)",
   "language": "python",
   "name": "python3"
  },
  "language_info": {
   "codemirror_mode": {
    "name": "ipython",
    "version": 3
   },
   "file_extension": ".py",
   "mimetype": "text/x-python",
   "name": "python",
   "nbconvert_exporter": "python",
   "pygments_lexer": "ipython3",
   "version": "3.9.12"
  }
 },
 "nbformat": 4,
 "nbformat_minor": 5
}
