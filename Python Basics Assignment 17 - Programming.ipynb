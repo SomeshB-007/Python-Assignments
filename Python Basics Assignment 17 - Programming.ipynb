{
 "cells": [
  {
   "cell_type": "code",
   "execution_count": 1,
   "id": "d86f66b0",
   "metadata": {},
   "outputs": [],
   "source": [
    "import logging\n",
    "logging.basicConfig(filename = \"jplogs17.log\", level = logging.INFO, format = '%(asctime)s - %(name)s - %(levelname)s - %(message)s')"
   ]
  },
  {
   "cell_type": "markdown",
   "id": "bbd36697",
   "metadata": {},
   "source": [
    "# 1. Create a function that takes three arguments a, b, c and returns the sum of the numbers that are evenly divided by c from the range a, b inclusive."
   ]
  },
  {
   "cell_type": "code",
   "execution_count": 47,
   "id": "0bfda044",
   "metadata": {},
   "outputs": [
    {
     "data": {
      "text/plain": [
       "18"
      ]
     },
     "execution_count": 47,
     "metadata": {},
     "output_type": "execute_result"
    }
   ],
   "source": [
    "def evenly_divisible(a,b,c):\n",
    "    summ  = 0\n",
    "    try:\n",
    "        logging.info(\"This is the start of evenly divisible function for\")\n",
    "        for i in range(a, b):\n",
    "            if c == 0 or type(c) != int:\n",
    "                print(\"Please insert the integer value which is greater than 0\")\n",
    "            if i%c==0:\n",
    "                summ += i \n",
    "        return summ\n",
    "\n",
    "    except Exception as e:\n",
    "        logging.error(e)\n",
    "\n",
    "    \n",
    "    \n",
    "evenly_divisible(1, 10, 3)\n",
    "\n",
    "   \n"
   ]
  },
  {
   "cell_type": "markdown",
   "id": "82864acf",
   "metadata": {},
   "source": [
    "# 2. Create a function that returns True if a given inequality expression is correct and False otherwise."
   ]
  },
  {
   "cell_type": "code",
   "execution_count": 71,
   "id": "bc771529",
   "metadata": {},
   "outputs": [
    {
     "data": {
      "text/plain": [
       "True"
      ]
     },
     "execution_count": 71,
     "metadata": {},
     "output_type": "execute_result"
    }
   ],
   "source": [
    "def correct_signs(n):\n",
    "    try:\n",
    "        logging.info(\"This is the start of correct_sign function %s\", n)\n",
    "        return eval(n)\n",
    "    except Exception as e:\n",
    "        logging.error(e)\n",
    "        print(\"Please insert the integer value\")\n",
    "    \n",
    "correct_signs(\"3 < 4 < 5\")\n",
    "    "
   ]
  },
  {
   "cell_type": "markdown",
   "id": "92dab8c5",
   "metadata": {},
   "source": [
    "# 3. Create a function that replaces all the vowels in a string with a specified character."
   ]
  },
  {
   "cell_type": "code",
   "execution_count": 136,
   "id": "537451f6",
   "metadata": {},
   "outputs": [
    {
     "data": {
      "text/plain": [
       "'h#ll#'"
      ]
     },
     "execution_count": 136,
     "metadata": {},
     "output_type": "execute_result"
    }
   ],
   "source": [
    "def replace_vowels(s, r):\n",
    "    vowels = {\"a\", \"e\", \"i\", \"o\", \"u\", \"A\", \"E\", \"I\", \"O\", \"U\"}\n",
    "    try:\n",
    "        logging.info(\"This is the start of function %s %s\", s, r)\n",
    "        no_vowels = \"\".join([i if i not in vowels else r for i in s])\n",
    "        return no_vowels\n",
    "    except Exception as e:\n",
    "        logging.error(e)\n",
    "replace_vowels(\"hello\", \"#\")"
   ]
  },
  {
   "cell_type": "markdown",
   "id": "1759250b",
   "metadata": {},
   "source": [
    "# 4. Write a function that calculates the factorial of a number recursively."
   ]
  },
  {
   "cell_type": "code",
   "execution_count": 165,
   "id": "01424fb5",
   "metadata": {},
   "outputs": [
    {
     "data": {
      "text/plain": [
       "120"
      ]
     },
     "execution_count": 165,
     "metadata": {},
     "output_type": "execute_result"
    }
   ],
   "source": [
    "def factorial1(n):\n",
    "    counter = 1\n",
    "    summ  = 1\n",
    "    try:\n",
    "        logging.info(\"This is the start %s\", str(n))\n",
    "        for i in range(n-1):\n",
    "            summ += summ*counter\n",
    "            counter += 1\n",
    "        return summ\n",
    "    except Exception as e:\n",
    "        logging.error(e)\n",
    "        print(\"Please insert valid number\")\n",
    "factorial1(5)"
   ]
  },
  {
   "cell_type": "markdown",
   "id": "e5092c4a",
   "metadata": {},
   "source": [
    "# 5. Create a function that computes the hamming distance between two strings.\n"
   ]
  },
  {
   "cell_type": "code",
   "execution_count": 187,
   "id": "551c67d6",
   "metadata": {},
   "outputs": [
    {
     "data": {
      "text/plain": [
       "2"
      ]
     },
     "execution_count": 187,
     "metadata": {},
     "output_type": "execute_result"
    }
   ],
   "source": [
    "def hamming_distance(s1, s2):\n",
    "    counter = 0\n",
    "    try:\n",
    "        logging.info(\"THis is the start of function s1 \")\n",
    "    for i in range(len(s1)):\n",
    "        if s1[i] != s2[i]:\n",
    "            counter += 1\n",
    "    return counter\n",
    "      \n",
    "hamming_distance(\"abvdn\", \"abcde\")"
   ]
  },
  {
   "cell_type": "code",
   "execution_count": null,
   "id": "bb6e3b8c",
   "metadata": {},
   "outputs": [],
   "source": []
  }
 ],
 "metadata": {
  "kernelspec": {
   "display_name": "Python 3 (ipykernel)",
   "language": "python",
   "name": "python3"
  },
  "language_info": {
   "codemirror_mode": {
    "name": "ipython",
    "version": 3
   },
   "file_extension": ".py",
   "mimetype": "text/x-python",
   "name": "python",
   "nbconvert_exporter": "python",
   "pygments_lexer": "ipython3",
   "version": "3.9.12"
  }
 },
 "nbformat": 4,
 "nbformat_minor": 5
}
